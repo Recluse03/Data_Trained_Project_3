{
 "cells": [
  {
   "cell_type": "markdown",
   "id": "5109eb10",
   "metadata": {},
   "source": [
    "***Dataset is about the most occuring features that are the base to predict price of used cards in japan ,source of this data is tc-v.com ,we are going to build a ML algorithm to predict price***"
   ]
  },
  {
   "cell_type": "code",
   "execution_count": 143,
   "id": "72b446de",
   "metadata": {},
   "outputs": [],
   "source": [
    "##Importing necessary Libraries###\n",
    "import pandas as pd\n",
    "import numpy as np\n",
    "import seaborn as sns\n",
    "import matplotlib.pyplot as plt\n",
    "%matplotlib inline\n",
    "import warnings\n",
    "warnings.filterwarnings('ignore')"
   ]
  },
  {
   "cell_type": "code",
   "execution_count": 144,
   "id": "32807278",
   "metadata": {},
   "outputs": [
    {
     "data": {
      "text/html": [
       "<div>\n",
       "<style scoped>\n",
       "    .dataframe tbody tr th:only-of-type {\n",
       "        vertical-align: middle;\n",
       "    }\n",
       "\n",
       "    .dataframe tbody tr th {\n",
       "        vertical-align: top;\n",
       "    }\n",
       "\n",
       "    .dataframe thead th {\n",
       "        text-align: right;\n",
       "    }\n",
       "</style>\n",
       "<table border=\"1\" class=\"dataframe\">\n",
       "  <thead>\n",
       "    <tr style=\"text-align: right;\">\n",
       "      <th></th>\n",
       "      <th>id</th>\n",
       "      <th>price</th>\n",
       "      <th>mark</th>\n",
       "      <th>model</th>\n",
       "      <th>year</th>\n",
       "      <th>mileage</th>\n",
       "      <th>engine_capacity</th>\n",
       "      <th>transmission</th>\n",
       "      <th>drive</th>\n",
       "      <th>hand_drive</th>\n",
       "      <th>fuel</th>\n",
       "    </tr>\n",
       "  </thead>\n",
       "  <tbody>\n",
       "    <tr>\n",
       "      <th>0</th>\n",
       "      <td>0</td>\n",
       "      <td>80</td>\n",
       "      <td>nissan</td>\n",
       "      <td>march</td>\n",
       "      <td>2003</td>\n",
       "      <td>80000</td>\n",
       "      <td>1240</td>\n",
       "      <td>at</td>\n",
       "      <td>2wd</td>\n",
       "      <td>rhd</td>\n",
       "      <td>gasoline</td>\n",
       "    </tr>\n",
       "    <tr>\n",
       "      <th>1</th>\n",
       "      <td>1</td>\n",
       "      <td>110</td>\n",
       "      <td>nissan</td>\n",
       "      <td>march</td>\n",
       "      <td>2010</td>\n",
       "      <td>53000</td>\n",
       "      <td>1200</td>\n",
       "      <td>at</td>\n",
       "      <td>2wd</td>\n",
       "      <td>rhd</td>\n",
       "      <td>gasoline</td>\n",
       "    </tr>\n",
       "    <tr>\n",
       "      <th>2</th>\n",
       "      <td>2</td>\n",
       "      <td>165</td>\n",
       "      <td>nissan</td>\n",
       "      <td>lafesta</td>\n",
       "      <td>2005</td>\n",
       "      <td>47690</td>\n",
       "      <td>2000</td>\n",
       "      <td>at</td>\n",
       "      <td>2wd</td>\n",
       "      <td>rhd</td>\n",
       "      <td>gasoline</td>\n",
       "    </tr>\n",
       "    <tr>\n",
       "      <th>3</th>\n",
       "      <td>3</td>\n",
       "      <td>190</td>\n",
       "      <td>toyota</td>\n",
       "      <td>avensis</td>\n",
       "      <td>2008</td>\n",
       "      <td>130661</td>\n",
       "      <td>1990</td>\n",
       "      <td>at</td>\n",
       "      <td>2wd</td>\n",
       "      <td>rhd</td>\n",
       "      <td>gasoline</td>\n",
       "    </tr>\n",
       "    <tr>\n",
       "      <th>4</th>\n",
       "      <td>4</td>\n",
       "      <td>190</td>\n",
       "      <td>daihatsu</td>\n",
       "      <td>mira</td>\n",
       "      <td>2006</td>\n",
       "      <td>66300</td>\n",
       "      <td>660</td>\n",
       "      <td>at</td>\n",
       "      <td>2wd</td>\n",
       "      <td>rhd</td>\n",
       "      <td>gasoline</td>\n",
       "    </tr>\n",
       "    <tr>\n",
       "      <th>...</th>\n",
       "      <td>...</td>\n",
       "      <td>...</td>\n",
       "      <td>...</td>\n",
       "      <td>...</td>\n",
       "      <td>...</td>\n",
       "      <td>...</td>\n",
       "      <td>...</td>\n",
       "      <td>...</td>\n",
       "      <td>...</td>\n",
       "      <td>...</td>\n",
       "      <td>...</td>\n",
       "    </tr>\n",
       "    <tr>\n",
       "      <th>2313</th>\n",
       "      <td>2331</td>\n",
       "      <td>1400</td>\n",
       "      <td>toyota</td>\n",
       "      <td>vitz</td>\n",
       "      <td>2009</td>\n",
       "      <td>121000</td>\n",
       "      <td>996</td>\n",
       "      <td>at</td>\n",
       "      <td>2wd</td>\n",
       "      <td>rhd</td>\n",
       "      <td>gasoline</td>\n",
       "    </tr>\n",
       "    <tr>\n",
       "      <th>2314</th>\n",
       "      <td>2332</td>\n",
       "      <td>1400</td>\n",
       "      <td>toyota</td>\n",
       "      <td>estima</td>\n",
       "      <td>2003</td>\n",
       "      <td>101000</td>\n",
       "      <td>3000</td>\n",
       "      <td>at</td>\n",
       "      <td>2wd</td>\n",
       "      <td>rhd</td>\n",
       "      <td>gasoline</td>\n",
       "    </tr>\n",
       "    <tr>\n",
       "      <th>2315</th>\n",
       "      <td>2333</td>\n",
       "      <td>1400</td>\n",
       "      <td>subaru</td>\n",
       "      <td>r2</td>\n",
       "      <td>2005</td>\n",
       "      <td>101000</td>\n",
       "      <td>660</td>\n",
       "      <td>cvt</td>\n",
       "      <td>2wd</td>\n",
       "      <td>rhd</td>\n",
       "      <td>gasoline</td>\n",
       "    </tr>\n",
       "    <tr>\n",
       "      <th>2316</th>\n",
       "      <td>2334</td>\n",
       "      <td>1400</td>\n",
       "      <td>honda</td>\n",
       "      <td>z</td>\n",
       "      <td>2000</td>\n",
       "      <td>170000</td>\n",
       "      <td>660</td>\n",
       "      <td>at</td>\n",
       "      <td>4wd</td>\n",
       "      <td>rhd</td>\n",
       "      <td>gasoline</td>\n",
       "    </tr>\n",
       "    <tr>\n",
       "      <th>2317</th>\n",
       "      <td>2335</td>\n",
       "      <td>1400</td>\n",
       "      <td>toyota</td>\n",
       "      <td>estima t</td>\n",
       "      <td>2005</td>\n",
       "      <td>72320</td>\n",
       "      <td>3000</td>\n",
       "      <td>at</td>\n",
       "      <td>2wd</td>\n",
       "      <td>rhd</td>\n",
       "      <td>gasoline</td>\n",
       "    </tr>\n",
       "  </tbody>\n",
       "</table>\n",
       "<p>2318 rows × 11 columns</p>\n",
       "</div>"
      ],
      "text/plain": [
       "        id  price      mark     model  year  mileage  engine_capacity  \\\n",
       "0        0     80    nissan     march  2003    80000             1240   \n",
       "1        1    110    nissan     march  2010    53000             1200   \n",
       "2        2    165    nissan   lafesta  2005    47690             2000   \n",
       "3        3    190    toyota   avensis  2008   130661             1990   \n",
       "4        4    190  daihatsu      mira  2006    66300              660   \n",
       "...    ...    ...       ...       ...   ...      ...              ...   \n",
       "2313  2331   1400    toyota      vitz  2009   121000              996   \n",
       "2314  2332   1400    toyota    estima  2003   101000             3000   \n",
       "2315  2333   1400    subaru        r2  2005   101000              660   \n",
       "2316  2334   1400     honda         z  2000   170000              660   \n",
       "2317  2335   1400    toyota  estima t  2005    72320             3000   \n",
       "\n",
       "     transmission drive hand_drive      fuel  \n",
       "0              at   2wd        rhd  gasoline  \n",
       "1              at   2wd        rhd  gasoline  \n",
       "2              at   2wd        rhd  gasoline  \n",
       "3              at   2wd        rhd  gasoline  \n",
       "4              at   2wd        rhd  gasoline  \n",
       "...           ...   ...        ...       ...  \n",
       "2313           at   2wd        rhd  gasoline  \n",
       "2314           at   2wd        rhd  gasoline  \n",
       "2315          cvt   2wd        rhd  gasoline  \n",
       "2316           at   4wd        rhd  gasoline  \n",
       "2317           at   2wd        rhd  gasoline  \n",
       "\n",
       "[2318 rows x 11 columns]"
      ]
     },
     "execution_count": 144,
     "metadata": {},
     "output_type": "execute_result"
    }
   ],
   "source": [
    "###Importing Dataset####\n",
    "df = pd.read_csv('Japan_used_cars_datasets.csv')\n",
    "df"
   ]
  },
  {
   "cell_type": "markdown",
   "id": "6df07025",
   "metadata": {},
   "source": [
    "***Observations***\n",
    "\n",
    "1. id column is looking connected as Dataset is small.\n",
    "\n",
    "2. price is continuous feature and will be treated as target feature as we are predicting the same\n",
    "\n",
    "3. mark is the name of the company since it is in string we will check for unique values,if possible we will encode the same.\n",
    "\n",
    "4. model is the name of the car which has been produced by the company in mark feature they may be highly correllated we will check the same through visualization\n",
    "\n",
    "5. mileage is the total miles run on road of cars\n",
    "\n",
    "6. engine_capacity defines the cc/power car holds in the engine\n",
    "\n",
    "7. transmission is having string values,we will check the unique values for same and will encode the same\n",
    "\n",
    "8. wheeldrive is the add on on wheels that is to be checked and encoded\n",
    "\n",
    "9. hand_drive indicated LHT and RHT i.e. Left hand traffic and Right hand traffic\n",
    "\n",
    "10. Fuel is the type of fuel or any other source used in the car"
   ]
  },
  {
   "cell_type": "code",
   "execution_count": 145,
   "id": "9cae68e8",
   "metadata": {},
   "outputs": [
    {
     "data": {
      "text/plain": [
       "(2318, 11)"
      ]
     },
     "execution_count": 145,
     "metadata": {},
     "output_type": "execute_result"
    }
   ],
   "source": [
    "##Checking shape of data set\n",
    "df.shape"
   ]
  },
  {
   "cell_type": "code",
   "execution_count": 146,
   "id": "00cc3f04",
   "metadata": {},
   "outputs": [
    {
     "data": {
      "text/plain": [
       "id                 0\n",
       "price              0\n",
       "mark               0\n",
       "model              0\n",
       "year               0\n",
       "mileage            0\n",
       "engine_capacity    0\n",
       "transmission       0\n",
       "drive              0\n",
       "hand_drive         0\n",
       "fuel               0\n",
       "dtype: int64"
      ]
     },
     "execution_count": 146,
     "metadata": {},
     "output_type": "execute_result"
    }
   ],
   "source": [
    "###Checking columnwise the presence of Null values###\n",
    "df.isnull().sum()"
   ]
  },
  {
   "cell_type": "markdown",
   "id": "51428112",
   "metadata": {},
   "source": [
    "***Checking duplicates values***"
   ]
  },
  {
   "cell_type": "code",
   "execution_count": 147,
   "id": "32ee8025",
   "metadata": {},
   "outputs": [
    {
     "name": "stdout",
     "output_type": "stream",
     "text": [
      "Their are no Duplicates values in your Data \n"
     ]
    }
   ],
   "source": [
    "dup_check=pd.DataFrame(df.duplicated(subset=None,keep='first'))\n",
    "for i in dup_check:\n",
    "    if i == True:\n",
    "        print(\"Their are Duplicate Values\")\n",
    "    else:\n",
    "        print(\"Their are no Duplicates values in your Data \")"
   ]
  },
  {
   "cell_type": "markdown",
   "id": "50dfee07",
   "metadata": {},
   "source": [
    "***I have created a DataFrame and by using for loop i have confirmed that their are no duplicate values in our Dataset as this code will give the value in Boolean i.e. True/False***"
   ]
  },
  {
   "cell_type": "code",
   "execution_count": 148,
   "id": "0dedf0f1",
   "metadata": {},
   "outputs": [
    {
     "name": "stdout",
     "output_type": "stream",
     "text": [
      "<class 'pandas.core.frame.DataFrame'>\n",
      "RangeIndex: 2318 entries, 0 to 2317\n",
      "Data columns (total 11 columns):\n",
      " #   Column           Non-Null Count  Dtype \n",
      "---  ------           --------------  ----- \n",
      " 0   id               2318 non-null   int64 \n",
      " 1   price            2318 non-null   int64 \n",
      " 2   mark             2318 non-null   object\n",
      " 3   model            2318 non-null   object\n",
      " 4   year             2318 non-null   int64 \n",
      " 5   mileage          2318 non-null   int64 \n",
      " 6   engine_capacity  2318 non-null   int64 \n",
      " 7   transmission     2318 non-null   object\n",
      " 8   drive            2318 non-null   object\n",
      " 9   hand_drive       2318 non-null   object\n",
      " 10  fuel             2318 non-null   object\n",
      "dtypes: int64(5), object(6)\n",
      "memory usage: 199.3+ KB\n"
     ]
    }
   ],
   "source": [
    "df.info()"
   ]
  },
  {
   "cell_type": "markdown",
   "id": "f85499db",
   "metadata": {},
   "source": [
    "*** id column is of no use as we already have built-in indexing facility ,we are dropping this unnecessary column to avoid unecessary data learning***"
   ]
  },
  {
   "cell_type": "code",
   "execution_count": 149,
   "id": "087e3e12",
   "metadata": {},
   "outputs": [
    {
     "data": {
      "text/plain": [
       "28"
      ]
     },
     "execution_count": 149,
     "metadata": {},
     "output_type": "execute_result"
    }
   ],
   "source": [
    "df['mark'].nunique()"
   ]
  },
  {
   "cell_type": "markdown",
   "id": "7f0b5c14",
   "metadata": {},
   "source": [
    "***Their are 28 unique values here in this feature we will check the correllation before dropping out this feature as encoding will produce many columns which will give learning affect on our Algorithm***"
   ]
  },
  {
   "cell_type": "code",
   "execution_count": 150,
   "id": "078accbd",
   "metadata": {},
   "outputs": [
    {
     "data": {
      "text/plain": [
       "258"
      ]
     },
     "execution_count": 150,
     "metadata": {},
     "output_type": "execute_result"
    }
   ],
   "source": [
    "df['model'].nunique()"
   ]
  },
  {
   "cell_type": "markdown",
   "id": "c643b293",
   "metadata": {},
   "source": [
    "***Their are 258 unique values here in this feature we will check the correllation before dropping out this feature as encoding will produce many columns which will give learning affect on our Algorithm***"
   ]
  },
  {
   "cell_type": "markdown",
   "id": "879fc31a",
   "metadata": {},
   "source": [
    "***Lets plot Heatmap to check the initial features correllation to seggregate their importance,post this we will encode the rest required features for their analysis***"
   ]
  },
  {
   "cell_type": "code",
   "execution_count": 151,
   "id": "a68cf662",
   "metadata": {},
   "outputs": [
    {
     "data": {
      "text/plain": [
       "<AxesSubplot:>"
      ]
     },
     "execution_count": 151,
     "metadata": {},
     "output_type": "execute_result"
    },
    {
     "data": {
      "image/png": "[encoded data removed]",
      "text/plain": [
       "<Figure size 432x288 with 2 Axes>"
      ]
     },
     "metadata": {
      "needs_background": "light"
     },
     "output_type": "display_data"
    }
   ],
   "source": [
    "##Plotting heatmap to check initial correllation###\n",
    "\n",
    "sns.heatmap(df.corr(),annot=True)"
   ]
  },
  {
   "cell_type": "markdown",
   "id": "7d95227d",
   "metadata": {},
   "source": [
    "Observations====>\n",
    "\n",
    "1. Year is the feature showing negative correllation with Price from initial features\n",
    "\n",
    "2. Engine_capacity is showing the maximum correllation with our target whereas mileage showing very less correllation with our target."
   ]
  },
  {
   "cell_type": "markdown",
   "id": "a5fa395c",
   "metadata": {},
   "source": [
    "***Lets encode columns to recheck our correlation***"
   ]
  },
  {
   "cell_type": "code",
   "execution_count": 152,
   "id": "5107122b",
   "metadata": {},
   "outputs": [
    {
     "data": {
      "text/plain": [
       "array(['2wd', '4wd', 'awd'], dtype=object)"
      ]
     },
     "execution_count": 152,
     "metadata": {},
     "output_type": "execute_result"
    }
   ],
   "source": [
    "df['drive'].unique()"
   ]
  },
  {
   "cell_type": "markdown",
   "id": "c08fb574",
   "metadata": {},
   "source": [
    "***We are encoding this keeping in mind the value that 4wd gets the higher value as in realistic cars market their are price differences in models in relation with this feature****\n",
    "\n",
    "***Source - Google***"
   ]
  },
  {
   "cell_type": "code",
   "execution_count": 153,
   "id": "2a707763",
   "metadata": {},
   "outputs": [
    {
     "data": {
      "text/html": [
       "<div>\n",
       "<style scoped>\n",
       "    .dataframe tbody tr th:only-of-type {\n",
       "        vertical-align: middle;\n",
       "    }\n",
       "\n",
       "    .dataframe tbody tr th {\n",
       "        vertical-align: top;\n",
       "    }\n",
       "\n",
       "    .dataframe thead th {\n",
       "        text-align: right;\n",
       "    }\n",
       "</style>\n",
       "<table border=\"1\" class=\"dataframe\">\n",
       "  <thead>\n",
       "    <tr style=\"text-align: right;\">\n",
       "      <th></th>\n",
       "      <th>id</th>\n",
       "      <th>price</th>\n",
       "      <th>mark</th>\n",
       "      <th>model</th>\n",
       "      <th>year</th>\n",
       "      <th>mileage</th>\n",
       "      <th>engine_capacity</th>\n",
       "      <th>transmission</th>\n",
       "      <th>drive</th>\n",
       "      <th>hand_drive</th>\n",
       "      <th>fuel</th>\n",
       "    </tr>\n",
       "  </thead>\n",
       "  <tbody>\n",
       "    <tr>\n",
       "      <th>0</th>\n",
       "      <td>0</td>\n",
       "      <td>80</td>\n",
       "      <td>nissan</td>\n",
       "      <td>march</td>\n",
       "      <td>2003</td>\n",
       "      <td>80000</td>\n",
       "      <td>1240</td>\n",
       "      <td>at</td>\n",
       "      <td>0</td>\n",
       "      <td>rhd</td>\n",
       "      <td>gasoline</td>\n",
       "    </tr>\n",
       "  </tbody>\n",
       "</table>\n",
       "</div>"
      ],
      "text/plain": [
       "   id  price    mark  model  year  mileage  engine_capacity transmission  \\\n",
       "0   0     80  nissan  march  2003    80000             1240           at   \n",
       "\n",
       "   drive hand_drive      fuel  \n",
       "0      0        rhd  gasoline  "
      ]
     },
     "execution_count": 153,
     "metadata": {},
     "output_type": "execute_result"
    }
   ],
   "source": [
    "df_2=df['drive'].replace({'2wd':0,'4wd':1,'awd':2})\n",
    "df['drive']=df_2\n",
    "df.head(1)"
   ]
  },
  {
   "cell_type": "code",
   "execution_count": 154,
   "id": "b5247918",
   "metadata": {},
   "outputs": [
    {
     "data": {
      "text/plain": [
       "<AxesSubplot:>"
      ]
     },
     "execution_count": 154,
     "metadata": {},
     "output_type": "execute_result"
    },
    {
     "data": {
      "image/png": "[encoded data removed]",
      "text/plain": [
       "<Figure size 432x288 with 2 Axes>"
      ]
     },
     "metadata": {
      "needs_background": "light"
     },
     "output_type": "display_data"
    }
   ],
   "source": [
    "sns.heatmap(df.corr(),annot=True)"
   ]
  },
  {
   "cell_type": "markdown",
   "id": "de86abd4",
   "metadata": {},
   "source": [
    "***We can clearly see that drive feature even has more correlation as i compare it with mileage feature for our target variable***"
   ]
  },
  {
   "cell_type": "code",
   "execution_count": 155,
   "id": "e51ba626",
   "metadata": {},
   "outputs": [
    {
     "data": {
      "text/plain": [
       "array(['at', 'mt', 'cvt'], dtype=object)"
      ]
     },
     "execution_count": 155,
     "metadata": {},
     "output_type": "execute_result"
    }
   ],
   "source": [
    "df['transmission'].unique()\n"
   ]
  },
  {
   "cell_type": "code",
   "execution_count": 156,
   "id": "6c9366a0",
   "metadata": {},
   "outputs": [],
   "source": [
    "df_1=df['transmission'].replace({'at':0,'mt':1,'cvt':2})\n",
    "df['transmission']=df_1"
   ]
  },
  {
   "cell_type": "code",
   "execution_count": 157,
   "id": "368ba4c7",
   "metadata": {},
   "outputs": [
    {
     "data": {
      "text/plain": [
       "<AxesSubplot:>"
      ]
     },
     "execution_count": 157,
     "metadata": {},
     "output_type": "execute_result"
    },
    {
     "data": {
      "image/png": "[encoded data removed]",
      "text/plain": [
       "<Figure size 432x288 with 2 Axes>"
      ]
     },
     "metadata": {
      "needs_background": "light"
     },
     "output_type": "display_data"
    }
   ],
   "source": [
    "sns.heatmap(df.corr(),annot=True)"
   ]
  },
  {
   "cell_type": "markdown",
   "id": "9f1b80cf",
   "metadata": {},
   "source": [
    "***We can clearly see that transmission feature is also positively correlated with our target***"
   ]
  },
  {
   "cell_type": "markdown",
   "id": "96cb4bae",
   "metadata": {},
   "source": [
    "***Checking unique Values***"
   ]
  },
  {
   "cell_type": "code",
   "execution_count": 158,
   "id": "32e650ce",
   "metadata": {},
   "outputs": [
    {
     "data": {
      "text/plain": [
       "array(['rhd', 'center', 'lhd'], dtype=object)"
      ]
     },
     "execution_count": 158,
     "metadata": {},
     "output_type": "execute_result"
    }
   ],
   "source": [
    "df['hand_drive'].unique()"
   ]
  },
  {
   "cell_type": "code",
   "execution_count": 159,
   "id": "59776c20",
   "metadata": {},
   "outputs": [
    {
     "data": {
      "text/plain": [
       "array(['gasoline', 'diesel', 'hybrid', 'lpg', 'cng'], dtype=object)"
      ]
     },
     "execution_count": 159,
     "metadata": {},
     "output_type": "execute_result"
    }
   ],
   "source": [
    "df['fuel'].unique()"
   ]
  },
  {
   "cell_type": "markdown",
   "id": "f24e59c9",
   "metadata": {},
   "source": [
    "***Encoding of values***"
   ]
  },
  {
   "cell_type": "code",
   "execution_count": 160,
   "id": "095898a1",
   "metadata": {},
   "outputs": [],
   "source": [
    "df['fuel'].replace({'gasoline':0,'diesel':1,'hybrid':2,'lpg':3,'cng':4},inplace=True)"
   ]
  },
  {
   "cell_type": "code",
   "execution_count": 161,
   "id": "46065c79",
   "metadata": {},
   "outputs": [],
   "source": [
    "df['hand_drive'].replace({'rhd':0,'center':1,'lhd':2},inplace=True)"
   ]
  },
  {
   "cell_type": "markdown",
   "id": "5ecf0245",
   "metadata": {},
   "source": [
    "***Recheck of Correlation***"
   ]
  },
  {
   "cell_type": "code",
   "execution_count": 162,
   "id": "84881b62",
   "metadata": {},
   "outputs": [
    {
     "data": {
      "text/plain": [
       "<AxesSubplot:>"
      ]
     },
     "execution_count": 162,
     "metadata": {},
     "output_type": "execute_result"
    },
    {
     "data": {
      "image/png": "[encoded data removed]",
      "text/plain": [
       "<Figure size 432x288 with 2 Axes>"
      ]
     },
     "metadata": {
      "needs_background": "light"
     },
     "output_type": "display_data"
    }
   ],
   "source": [
    "sns.heatmap(df.corr(),annot=True)"
   ]
  },
  {
   "cell_type": "markdown",
   "id": "95918546",
   "metadata": {},
   "source": [
    "***we are going to drop year column as it is negatively correlated with our target***"
   ]
  },
  {
   "cell_type": "code",
   "execution_count": 163,
   "id": "c3ba1305",
   "metadata": {},
   "outputs": [],
   "source": [
    "df.drop(columns=['year'],inplace=True)"
   ]
  },
  {
   "cell_type": "markdown",
   "id": "a7834d90",
   "metadata": {},
   "source": [
    "# Bivariate Analysis"
   ]
  },
  {
   "cell_type": "code",
   "execution_count": 164,
   "id": "015b6b1a",
   "metadata": {},
   "outputs": [
    {
     "data": {
      "text/plain": [
       "<seaborn.axisgrid.PairGrid at 0x35d8f72f40>"
      ]
     },
     "execution_count": 164,
     "metadata": {},
     "output_type": "execute_result"
    },
    {
     "data": {
      "image/png": "[encoded data removed]",
      "text/plain": [
       "<Figure size 324x324 with 1 Axes>"
      ]
     },
     "metadata": {
      "needs_background": "light"
     },
     "output_type": "display_data"
    }
   ],
   "source": [
    "sns.pairplot(x_vars='fuel',y_vars='price',data=df,kind='reg',height=4.5)"
   ]
  },
  {
   "cell_type": "markdown",
   "id": "7376c4a8",
   "metadata": {},
   "source": [
    "***fuel is not the most demading feature when calculating the price of used car ,we are going to drop this feature***"
   ]
  },
  {
   "cell_type": "code",
   "execution_count": 165,
   "id": "a18bdee5",
   "metadata": {},
   "outputs": [
    {
     "data": {
      "text/plain": [
       "<seaborn.axisgrid.PairGrid at 0x35d93558b0>"
      ]
     },
     "execution_count": 165,
     "metadata": {},
     "output_type": "execute_result"
    },
    {
     "data": {
      "image/png": "[encoded data removed]",
      "text/plain": [
       "<Figure size 324x324 with 1 Axes>"
      ]
     },
     "metadata": {
      "needs_background": "light"
     },
     "output_type": "display_data"
    }
   ],
   "source": [
    "sns.pairplot(x_vars='mileage',y_vars='price',data=df,kind='hist',height=4.5)"
   ]
  },
  {
   "cell_type": "markdown",
   "id": "2be5c16b",
   "metadata": {},
   "source": [
    "***As when with used cars having copious run on road price for same car is in dimnishing mode,it gives a sense that people prefer used cars having less run on the roads which is realistic also***\n",
    "***Their is also a sense of outliers in mileage lets check the same***"
   ]
  },
  {
   "cell_type": "code",
   "execution_count": 166,
   "id": "d189519a",
   "metadata": {},
   "outputs": [
    {
     "data": {
      "text/plain": [
       "<AxesSubplot:xlabel='mileage'>"
      ]
     },
     "execution_count": 166,
     "metadata": {},
     "output_type": "execute_result"
    },
    {
     "data": {
      "image/png": "[encoded data removed]",
      "text/plain": [
       "<Figure size 432x288 with 1 Axes>"
      ]
     },
     "metadata": {
      "needs_background": "light"
     },
     "output_type": "display_data"
    }
   ],
   "source": [
    "sns.boxplot(x='mileage',data=df)"
   ]
  },
  {
   "cell_type": "markdown",
   "id": "f65ded59",
   "metadata": {},
   "source": [
    "***Clear view of Outliers present in mileage,we will handle the outliers***"
   ]
  },
  {
   "cell_type": "code",
   "execution_count": 167,
   "id": "cf0aec1c",
   "metadata": {},
   "outputs": [
    {
     "data": {
      "text/plain": [
       "<seaborn.axisgrid.PairGrid at 0x35d93ba430>"
      ]
     },
     "execution_count": 167,
     "metadata": {},
     "output_type": "execute_result"
    },
    {
     "data": {
      "image/png": "[encoded data removed]",
      "text/plain": [
       "<Figure size 324x324 with 1 Axes>"
      ]
     },
     "metadata": {
      "needs_background": "light"
     },
     "output_type": "display_data"
    }
   ],
   "source": [
    "sns.pairplot(x_vars='engine_capacity',y_vars='price',data=df,kind='reg',height=4.5)"
   ]
  },
  {
   "cell_type": "markdown",
   "id": "d1815807",
   "metadata": {},
   "source": [
    "***Engine capacity is  prime feature for calculating the price of used cars as with the increase in engine_capacity their is a increase in price of used cars***\n",
    "\n",
    "***Lets check for outliers in engine_capacity***"
   ]
  },
  {
   "cell_type": "code",
   "execution_count": 168,
   "id": "ee611b6b",
   "metadata": {},
   "outputs": [
    {
     "data": {
      "text/plain": [
       "<AxesSubplot:xlabel='engine_capacity'>"
      ]
     },
     "execution_count": 168,
     "metadata": {},
     "output_type": "execute_result"
    },
    {
     "data": {
      "image/png": "[encoded data removed]",
      "text/plain": [
       "<Figure size 432x288 with 1 Axes>"
      ]
     },
     "metadata": {
      "needs_background": "light"
     },
     "output_type": "display_data"
    }
   ],
   "source": [
    "sns.boxplot(x='engine_capacity',data=df)"
   ]
  },
  {
   "cell_type": "markdown",
   "id": "7399663b",
   "metadata": {},
   "source": [
    "***Outliers are present in engine_capacity,we have documented the same and will remove outliers for this column alongwith mileage feature***"
   ]
  },
  {
   "cell_type": "code",
   "execution_count": 169,
   "id": "8ebef850",
   "metadata": {},
   "outputs": [
    {
     "data": {
      "text/plain": [
       "<seaborn.axisgrid.PairGrid at 0x35d9506c70>"
      ]
     },
     "execution_count": 169,
     "metadata": {},
     "output_type": "execute_result"
    },
    {
     "data": {
      "image/png": "[encoded data removed]",
      "text/plain": [
       "<Figure size 324x324 with 1 Axes>"
      ]
     },
     "metadata": {
      "needs_background": "light"
     },
     "output_type": "display_data"
    }
   ],
   "source": [
    "sns.pairplot(x_vars='transmission',y_vars='price',data=df,kind='scatter',height=4.5)"
   ]
  },
  {
   "cell_type": "markdown",
   "id": "2f5495e3",
   "metadata": {},
   "source": [
    "***transmission 'at' mode cars are having maximum price wherein in 'mt' mode is also a preferable choice,'cvt' mode is least considered as compared to 'at' and 'mt'***"
   ]
  },
  {
   "cell_type": "code",
   "execution_count": 170,
   "id": "ab1975e3",
   "metadata": {},
   "outputs": [
    {
     "data": {
      "text/plain": [
       "<seaborn.axisgrid.PairGrid at 0x35d9521820>"
      ]
     },
     "execution_count": 170,
     "metadata": {},
     "output_type": "execute_result"
    },
    {
     "data": {
      "image/png": "[encoded data removed]",
      "text/plain": [
       "<Figure size 324x324 with 1 Axes>"
      ]
     },
     "metadata": {
      "needs_background": "light"
     },
     "output_type": "display_data"
    }
   ],
   "source": [
    "sns.pairplot(x_vars='drive',y_vars='price',data=df,kind='scatter',height=4.5)"
   ]
  },
  {
   "cell_type": "markdown",
   "id": "958ad6cf",
   "metadata": {},
   "source": [
    "***drive feature '2wd'and '4wd' has the maximum impact in calculating price ,herein as it is categorical we will not go for outliers check***"
   ]
  },
  {
   "cell_type": "code",
   "execution_count": 171,
   "id": "1f8e2966",
   "metadata": {},
   "outputs": [
    {
     "data": {
      "text/plain": [
       "<seaborn.axisgrid.PairGrid at 0x35d94fb880>"
      ]
     },
     "execution_count": 171,
     "metadata": {},
     "output_type": "execute_result"
    },
    {
     "data": {
      "image/png": "[encoded data removed]",
      "text/plain": [
       "<Figure size 324x324 with 1 Axes>"
      ]
     },
     "metadata": {
      "needs_background": "light"
     },
     "output_type": "display_data"
    }
   ],
   "source": [
    "sns.pairplot(x_vars='hand_drive',y_vars='price',data=df,kind='hist',height=4.5)"
   ]
  },
  {
   "cell_type": "markdown",
   "id": "600fad61",
   "metadata": {},
   "source": [
    "***Cars having RHD has the maximum impact on predicting price as compared to LHD***"
   ]
  },
  {
   "cell_type": "markdown",
   "id": "acb4f5c6",
   "metadata": {},
   "source": [
    "***As model feature is having 258 unique values which are going to create multiple columns if we use any encoder and will make cocundrum ML algorithm while training and testing ,we are dropping this column***"
   ]
  },
  {
   "cell_type": "code",
   "execution_count": 172,
   "id": "2770b16f",
   "metadata": {},
   "outputs": [],
   "source": [
    "df.drop(columns=['model'],inplace=True)"
   ]
  },
  {
   "cell_type": "code",
   "execution_count": 173,
   "id": "92167bd8",
   "metadata": {},
   "outputs": [
    {
     "data": {
      "text/html": [
       "<div>\n",
       "<style scoped>\n",
       "    .dataframe tbody tr th:only-of-type {\n",
       "        vertical-align: middle;\n",
       "    }\n",
       "\n",
       "    .dataframe tbody tr th {\n",
       "        vertical-align: top;\n",
       "    }\n",
       "\n",
       "    .dataframe thead th {\n",
       "        text-align: right;\n",
       "    }\n",
       "</style>\n",
       "<table border=\"1\" class=\"dataframe\">\n",
       "  <thead>\n",
       "    <tr style=\"text-align: right;\">\n",
       "      <th></th>\n",
       "      <th>id</th>\n",
       "      <th>price</th>\n",
       "      <th>mark</th>\n",
       "      <th>mileage</th>\n",
       "      <th>engine_capacity</th>\n",
       "      <th>transmission</th>\n",
       "      <th>drive</th>\n",
       "      <th>hand_drive</th>\n",
       "      <th>fuel</th>\n",
       "    </tr>\n",
       "  </thead>\n",
       "  <tbody>\n",
       "    <tr>\n",
       "      <th>0</th>\n",
       "      <td>0</td>\n",
       "      <td>80</td>\n",
       "      <td>nissan</td>\n",
       "      <td>80000</td>\n",
       "      <td>1240</td>\n",
       "      <td>0</td>\n",
       "      <td>0</td>\n",
       "      <td>0</td>\n",
       "      <td>0</td>\n",
       "    </tr>\n",
       "  </tbody>\n",
       "</table>\n",
       "</div>"
      ],
      "text/plain": [
       "   id  price    mark  mileage  engine_capacity  transmission  drive  \\\n",
       "0   0     80  nissan    80000             1240             0      0   \n",
       "\n",
       "   hand_drive  fuel  \n",
       "0           0     0  "
      ]
     },
     "execution_count": 173,
     "metadata": {},
     "output_type": "execute_result"
    }
   ],
   "source": [
    "df.head(1)"
   ]
  },
  {
   "cell_type": "code",
   "execution_count": 174,
   "id": "abcee26b",
   "metadata": {},
   "outputs": [
    {
     "data": {
      "text/plain": [
       "<seaborn.axisgrid.FacetGrid at 0x35d6f317c0>"
      ]
     },
     "execution_count": 174,
     "metadata": {},
     "output_type": "execute_result"
    },
    {
     "data": {
      "image/png": "[encoded data removed]",
      "text/plain": [
       "<Figure size 360x360 with 1 Axes>"
      ]
     },
     "metadata": {
      "needs_background": "light"
     },
     "output_type": "display_data"
    }
   ],
   "source": [
    "sns.displot(y='mark',x='price',data=df)"
   ]
  },
  {
   "cell_type": "markdown",
   "id": "47775d32",
   "metadata": {},
   "source": [
    "***Their are some companies having cars in every price segment wherein maximum companies are not showing any particular relationship with their respective cars segments,this feature is having 28 unique values which is hard to keep after this analysis,we are going to drop this feature***"
   ]
  },
  {
   "cell_type": "code",
   "execution_count": 175,
   "id": "d577a64c",
   "metadata": {},
   "outputs": [],
   "source": [
    "df.drop(columns=['mark'],inplace=True)"
   ]
  },
  {
   "cell_type": "markdown",
   "id": "2047fb80",
   "metadata": {},
   "source": [
    "***Checking the correlation of features with our target variable for final selection of features***"
   ]
  },
  {
   "cell_type": "code",
   "execution_count": 176,
   "id": "3b5594d8",
   "metadata": {},
   "outputs": [
    {
     "data": {
      "text/plain": [
       "<AxesSubplot:>"
      ]
     },
     "execution_count": 176,
     "metadata": {},
     "output_type": "execute_result"
    },
    {
     "data": {
      "image/png": "[encoded data removed]",
      "text/plain": [
       "<Figure size 720x576 with 1 Axes>"
      ]
     },
     "metadata": {
      "needs_background": "light"
     },
     "output_type": "display_data"
    }
   ],
   "source": [
    "df.drop('price',axis=1).corrwith(df.price).plot(kind='bar',grid=True,figsize=(10,8))"
   ]
  },
  {
   "cell_type": "markdown",
   "id": "3826cedf",
   "metadata": {},
   "source": [
    "**We can clearly see fuel feature is also negatively correlated ,pre this check we also plotted pair plot and their also it has shown that this feature is whatsoever not contributing to our target,hence we are dropping the same**\n",
    "\n",
    "***Id is the highest contributing feature as this is showing the relation maybe with names or models identifications***"
   ]
  },
  {
   "cell_type": "code",
   "execution_count": null,
   "id": "8c5003d5",
   "metadata": {},
   "outputs": [],
   "source": []
  },
  {
   "cell_type": "code",
   "execution_count": 177,
   "id": "febed1a9",
   "metadata": {},
   "outputs": [
    {
     "data": {
      "text/plain": [
       "<AxesSubplot:>"
      ]
     },
     "execution_count": 177,
     "metadata": {},
     "output_type": "execute_result"
    },
    {
     "data": {
      "image/png": "[encoded data removed]",
      "text/plain": [
       "<Figure size 720x576 with 1 Axes>"
      ]
     },
     "metadata": {
      "needs_background": "light"
     },
     "output_type": "display_data"
    }
   ],
   "source": [
    "df.drop('price',axis=1).corrwith(df.price).plot(kind='line',grid=True,figsize=(10,8))"
   ]
  },
  {
   "cell_type": "markdown",
   "id": "a9c1e96b",
   "metadata": {},
   "source": [
    "***Checking the correlation again by using line plot and satisfied with the outcome as it is showing all selected features are correlated with our target variable***\n",
    "\n",
    "1. Mileage and engine_capacity is considered as the best features in calculating the price of used cars.\n",
    "\n",
    "2. Transmission is having the least effect while calculating the price of used cars\n",
    "\n",
    "3. drive feature impacts positively on the way of calculating price.\n",
    "\n",
    "4. hand_drive is more impactful as compared to wheel drive while calculating the price\n"
   ]
  },
  {
   "cell_type": "code",
   "execution_count": 178,
   "id": "5ddaf072",
   "metadata": {},
   "outputs": [
    {
     "data": {
      "text/html": [
       "<div>\n",
       "<style scoped>\n",
       "    .dataframe tbody tr th:only-of-type {\n",
       "        vertical-align: middle;\n",
       "    }\n",
       "\n",
       "    .dataframe tbody tr th {\n",
       "        vertical-align: top;\n",
       "    }\n",
       "\n",
       "    .dataframe thead th {\n",
       "        text-align: right;\n",
       "    }\n",
       "</style>\n",
       "<table border=\"1\" class=\"dataframe\">\n",
       "  <thead>\n",
       "    <tr style=\"text-align: right;\">\n",
       "      <th></th>\n",
       "      <th>id</th>\n",
       "      <th>price</th>\n",
       "      <th>mileage</th>\n",
       "      <th>engine_capacity</th>\n",
       "      <th>transmission</th>\n",
       "      <th>drive</th>\n",
       "      <th>hand_drive</th>\n",
       "      <th>fuel</th>\n",
       "    </tr>\n",
       "  </thead>\n",
       "  <tbody>\n",
       "    <tr>\n",
       "      <th>0</th>\n",
       "      <td>0</td>\n",
       "      <td>80</td>\n",
       "      <td>80000</td>\n",
       "      <td>1240</td>\n",
       "      <td>0</td>\n",
       "      <td>0</td>\n",
       "      <td>0</td>\n",
       "      <td>0</td>\n",
       "    </tr>\n",
       "  </tbody>\n",
       "</table>\n",
       "</div>"
      ],
      "text/plain": [
       "   id  price  mileage  engine_capacity  transmission  drive  hand_drive  fuel\n",
       "0   0     80    80000             1240             0      0           0     0"
      ]
     },
     "execution_count": 178,
     "metadata": {},
     "output_type": "execute_result"
    }
   ],
   "source": [
    "df.head(1)"
   ]
  },
  {
   "cell_type": "markdown",
   "id": "d73b6ad2",
   "metadata": {},
   "source": [
    "# Checking for Skewness in Univariate Analysis"
   ]
  },
  {
   "cell_type": "code",
   "execution_count": 179,
   "id": "6adeab6c",
   "metadata": {},
   "outputs": [
    {
     "data": {
      "text/plain": [
       "<seaborn.axisgrid.FacetGrid at 0x35d962bd00>"
      ]
     },
     "execution_count": 179,
     "metadata": {},
     "output_type": "execute_result"
    },
    {
     "data": {
      "image/png": "[encoded data removed]",
      "text/plain": [
       "<Figure size 360x360 with 1 Axes>"
      ]
     },
     "metadata": {
      "needs_background": "light"
     },
     "output_type": "display_data"
    }
   ],
   "source": [
    "sns.displot(y='mileage',data=df,kind='kde')"
   ]
  },
  {
   "cell_type": "code",
   "execution_count": 180,
   "id": "e00b9a37",
   "metadata": {},
   "outputs": [
    {
     "data": {
      "text/plain": [
       "<seaborn.axisgrid.FacetGrid at 0x35da72b5e0>"
      ]
     },
     "execution_count": 180,
     "metadata": {},
     "output_type": "execute_result"
    },
    {
     "data": {
      "image/png": "[encoded data removed]",
      "text/plain": [
       "<Figure size 360x360 with 1 Axes>"
      ]
     },
     "metadata": {
      "needs_background": "light"
     },
     "output_type": "display_data"
    }
   ],
   "source": [
    "sns.displot(y='engine_capacity',data=df,kind='kde')"
   ]
  },
  {
   "cell_type": "markdown",
   "id": "1829a019",
   "metadata": {},
   "source": [
    "***Mileage and engine_capacity showing data is normally skewed for both of the continuous features***\n"
   ]
  },
  {
   "cell_type": "markdown",
   "id": "7208e177",
   "metadata": {},
   "source": [
    "# Removing outliers"
   ]
  },
  {
   "cell_type": "markdown",
   "id": "2af27e3a",
   "metadata": {},
   "source": [
    "***We have visualized outliers in mileage and engine_capacity***"
   ]
  },
  {
   "cell_type": "code",
   "execution_count": 181,
   "id": "d6b61ef5",
   "metadata": {},
   "outputs": [
    {
     "data": {
      "text/plain": [
       "(2318, 8)"
      ]
     },
     "execution_count": 181,
     "metadata": {},
     "output_type": "execute_result"
    }
   ],
   "source": [
    "##Checking shape of dataset before removing outliers###\n",
    "df.shape"
   ]
  },
  {
   "cell_type": "code",
   "execution_count": 182,
   "id": "5f816d5f",
   "metadata": {},
   "outputs": [],
   "source": [
    "Q1= df.quantile(0.25)\n",
    "Q3= df.quantile(0.75)\n",
    "IQR = Q3-Q1"
   ]
  },
  {
   "cell_type": "code",
   "execution_count": 183,
   "id": "e81fcb78",
   "metadata": {},
   "outputs": [
    {
     "data": {
      "text/html": [
       "<div>\n",
       "<style scoped>\n",
       "    .dataframe tbody tr th:only-of-type {\n",
       "        vertical-align: middle;\n",
       "    }\n",
       "\n",
       "    .dataframe tbody tr th {\n",
       "        vertical-align: top;\n",
       "    }\n",
       "\n",
       "    .dataframe thead th {\n",
       "        text-align: right;\n",
       "    }\n",
       "</style>\n",
       "<table border=\"1\" class=\"dataframe\">\n",
       "  <thead>\n",
       "    <tr style=\"text-align: right;\">\n",
       "      <th></th>\n",
       "      <th>index</th>\n",
       "      <th>id</th>\n",
       "      <th>price</th>\n",
       "      <th>mileage</th>\n",
       "      <th>engine_capacity</th>\n",
       "      <th>transmission</th>\n",
       "      <th>drive</th>\n",
       "      <th>hand_drive</th>\n",
       "      <th>fuel</th>\n",
       "    </tr>\n",
       "  </thead>\n",
       "  <tbody>\n",
       "    <tr>\n",
       "      <th>0</th>\n",
       "      <td>0</td>\n",
       "      <td>0</td>\n",
       "      <td>80</td>\n",
       "      <td>80000</td>\n",
       "      <td>1240</td>\n",
       "      <td>0</td>\n",
       "      <td>0</td>\n",
       "      <td>0</td>\n",
       "      <td>0</td>\n",
       "    </tr>\n",
       "    <tr>\n",
       "      <th>1</th>\n",
       "      <td>1</td>\n",
       "      <td>1</td>\n",
       "      <td>110</td>\n",
       "      <td>53000</td>\n",
       "      <td>1200</td>\n",
       "      <td>0</td>\n",
       "      <td>0</td>\n",
       "      <td>0</td>\n",
       "      <td>0</td>\n",
       "    </tr>\n",
       "    <tr>\n",
       "      <th>2</th>\n",
       "      <td>2</td>\n",
       "      <td>2</td>\n",
       "      <td>165</td>\n",
       "      <td>47690</td>\n",
       "      <td>2000</td>\n",
       "      <td>0</td>\n",
       "      <td>0</td>\n",
       "      <td>0</td>\n",
       "      <td>0</td>\n",
       "    </tr>\n",
       "    <tr>\n",
       "      <th>3</th>\n",
       "      <td>3</td>\n",
       "      <td>3</td>\n",
       "      <td>190</td>\n",
       "      <td>130661</td>\n",
       "      <td>1990</td>\n",
       "      <td>0</td>\n",
       "      <td>0</td>\n",
       "      <td>0</td>\n",
       "      <td>0</td>\n",
       "    </tr>\n",
       "    <tr>\n",
       "      <th>4</th>\n",
       "      <td>4</td>\n",
       "      <td>4</td>\n",
       "      <td>190</td>\n",
       "      <td>66300</td>\n",
       "      <td>660</td>\n",
       "      <td>0</td>\n",
       "      <td>0</td>\n",
       "      <td>0</td>\n",
       "      <td>0</td>\n",
       "    </tr>\n",
       "    <tr>\n",
       "      <th>...</th>\n",
       "      <td>...</td>\n",
       "      <td>...</td>\n",
       "      <td>...</td>\n",
       "      <td>...</td>\n",
       "      <td>...</td>\n",
       "      <td>...</td>\n",
       "      <td>...</td>\n",
       "      <td>...</td>\n",
       "      <td>...</td>\n",
       "    </tr>\n",
       "    <tr>\n",
       "      <th>2267</th>\n",
       "      <td>2313</td>\n",
       "      <td>2331</td>\n",
       "      <td>1400</td>\n",
       "      <td>121000</td>\n",
       "      <td>996</td>\n",
       "      <td>0</td>\n",
       "      <td>0</td>\n",
       "      <td>0</td>\n",
       "      <td>0</td>\n",
       "    </tr>\n",
       "    <tr>\n",
       "      <th>2268</th>\n",
       "      <td>2314</td>\n",
       "      <td>2332</td>\n",
       "      <td>1400</td>\n",
       "      <td>101000</td>\n",
       "      <td>3000</td>\n",
       "      <td>0</td>\n",
       "      <td>0</td>\n",
       "      <td>0</td>\n",
       "      <td>0</td>\n",
       "    </tr>\n",
       "    <tr>\n",
       "      <th>2269</th>\n",
       "      <td>2315</td>\n",
       "      <td>2333</td>\n",
       "      <td>1400</td>\n",
       "      <td>101000</td>\n",
       "      <td>660</td>\n",
       "      <td>2</td>\n",
       "      <td>0</td>\n",
       "      <td>0</td>\n",
       "      <td>0</td>\n",
       "    </tr>\n",
       "    <tr>\n",
       "      <th>2270</th>\n",
       "      <td>2316</td>\n",
       "      <td>2334</td>\n",
       "      <td>1400</td>\n",
       "      <td>170000</td>\n",
       "      <td>660</td>\n",
       "      <td>0</td>\n",
       "      <td>1</td>\n",
       "      <td>0</td>\n",
       "      <td>0</td>\n",
       "    </tr>\n",
       "    <tr>\n",
       "      <th>2271</th>\n",
       "      <td>2317</td>\n",
       "      <td>2335</td>\n",
       "      <td>1400</td>\n",
       "      <td>72320</td>\n",
       "      <td>3000</td>\n",
       "      <td>0</td>\n",
       "      <td>0</td>\n",
       "      <td>0</td>\n",
       "      <td>0</td>\n",
       "    </tr>\n",
       "  </tbody>\n",
       "</table>\n",
       "<p>2272 rows × 9 columns</p>\n",
       "</div>"
      ],
      "text/plain": [
       "      index    id  price  mileage  engine_capacity  transmission  drive  \\\n",
       "0         0     0     80    80000             1240             0      0   \n",
       "1         1     1    110    53000             1200             0      0   \n",
       "2         2     2    165    47690             2000             0      0   \n",
       "3         3     3    190   130661             1990             0      0   \n",
       "4         4     4    190    66300              660             0      0   \n",
       "...     ...   ...    ...      ...              ...           ...    ...   \n",
       "2267   2313  2331   1400   121000              996             0      0   \n",
       "2268   2314  2332   1400   101000             3000             0      0   \n",
       "2269   2315  2333   1400   101000              660             2      0   \n",
       "2270   2316  2334   1400   170000              660             0      1   \n",
       "2271   2317  2335   1400    72320             3000             0      0   \n",
       "\n",
       "      hand_drive  fuel  \n",
       "0              0     0  \n",
       "1              0     0  \n",
       "2              0     0  \n",
       "3              0     0  \n",
       "4              0     0  \n",
       "...          ...   ...  \n",
       "2267           0     0  \n",
       "2268           0     0  \n",
       "2269           0     0  \n",
       "2270           0     0  \n",
       "2271           0     0  \n",
       "\n",
       "[2272 rows x 9 columns]"
      ]
     },
     "execution_count": 183,
     "metadata": {},
     "output_type": "execute_result"
    }
   ],
   "source": [
    "MI_high =(Q3.mileage+(1.5*IQR.mileage))\n",
    "index=np.where(df['mileage']>MI_high)\n",
    "df= df.drop(df.index[index])\n",
    "df.reset_index()"
   ]
  },
  {
   "cell_type": "code",
   "execution_count": 184,
   "id": "d558ca47",
   "metadata": {},
   "outputs": [
    {
     "data": {
      "text/html": [
       "<div>\n",
       "<style scoped>\n",
       "    .dataframe tbody tr th:only-of-type {\n",
       "        vertical-align: middle;\n",
       "    }\n",
       "\n",
       "    .dataframe tbody tr th {\n",
       "        vertical-align: top;\n",
       "    }\n",
       "\n",
       "    .dataframe thead th {\n",
       "        text-align: right;\n",
       "    }\n",
       "</style>\n",
       "<table border=\"1\" class=\"dataframe\">\n",
       "  <thead>\n",
       "    <tr style=\"text-align: right;\">\n",
       "      <th></th>\n",
       "      <th>index</th>\n",
       "      <th>id</th>\n",
       "      <th>price</th>\n",
       "      <th>mileage</th>\n",
       "      <th>engine_capacity</th>\n",
       "      <th>transmission</th>\n",
       "      <th>drive</th>\n",
       "      <th>hand_drive</th>\n",
       "      <th>fuel</th>\n",
       "    </tr>\n",
       "  </thead>\n",
       "  <tbody>\n",
       "    <tr>\n",
       "      <th>0</th>\n",
       "      <td>0</td>\n",
       "      <td>0</td>\n",
       "      <td>80</td>\n",
       "      <td>80000</td>\n",
       "      <td>1240</td>\n",
       "      <td>0</td>\n",
       "      <td>0</td>\n",
       "      <td>0</td>\n",
       "      <td>0</td>\n",
       "    </tr>\n",
       "    <tr>\n",
       "      <th>1</th>\n",
       "      <td>1</td>\n",
       "      <td>1</td>\n",
       "      <td>110</td>\n",
       "      <td>53000</td>\n",
       "      <td>1200</td>\n",
       "      <td>0</td>\n",
       "      <td>0</td>\n",
       "      <td>0</td>\n",
       "      <td>0</td>\n",
       "    </tr>\n",
       "    <tr>\n",
       "      <th>2</th>\n",
       "      <td>2</td>\n",
       "      <td>2</td>\n",
       "      <td>165</td>\n",
       "      <td>47690</td>\n",
       "      <td>2000</td>\n",
       "      <td>0</td>\n",
       "      <td>0</td>\n",
       "      <td>0</td>\n",
       "      <td>0</td>\n",
       "    </tr>\n",
       "    <tr>\n",
       "      <th>3</th>\n",
       "      <td>3</td>\n",
       "      <td>3</td>\n",
       "      <td>190</td>\n",
       "      <td>130661</td>\n",
       "      <td>1990</td>\n",
       "      <td>0</td>\n",
       "      <td>0</td>\n",
       "      <td>0</td>\n",
       "      <td>0</td>\n",
       "    </tr>\n",
       "    <tr>\n",
       "      <th>4</th>\n",
       "      <td>4</td>\n",
       "      <td>4</td>\n",
       "      <td>190</td>\n",
       "      <td>66300</td>\n",
       "      <td>660</td>\n",
       "      <td>0</td>\n",
       "      <td>0</td>\n",
       "      <td>0</td>\n",
       "      <td>0</td>\n",
       "    </tr>\n",
       "    <tr>\n",
       "      <th>...</th>\n",
       "      <td>...</td>\n",
       "      <td>...</td>\n",
       "      <td>...</td>\n",
       "      <td>...</td>\n",
       "      <td>...</td>\n",
       "      <td>...</td>\n",
       "      <td>...</td>\n",
       "      <td>...</td>\n",
       "      <td>...</td>\n",
       "    </tr>\n",
       "    <tr>\n",
       "      <th>2227</th>\n",
       "      <td>2311</td>\n",
       "      <td>2329</td>\n",
       "      <td>1400</td>\n",
       "      <td>101874</td>\n",
       "      <td>2000</td>\n",
       "      <td>0</td>\n",
       "      <td>0</td>\n",
       "      <td>0</td>\n",
       "      <td>0</td>\n",
       "    </tr>\n",
       "    <tr>\n",
       "      <th>2228</th>\n",
       "      <td>2312</td>\n",
       "      <td>2330</td>\n",
       "      <td>1400</td>\n",
       "      <td>112000</td>\n",
       "      <td>1300</td>\n",
       "      <td>0</td>\n",
       "      <td>0</td>\n",
       "      <td>0</td>\n",
       "      <td>0</td>\n",
       "    </tr>\n",
       "    <tr>\n",
       "      <th>2229</th>\n",
       "      <td>2313</td>\n",
       "      <td>2331</td>\n",
       "      <td>1400</td>\n",
       "      <td>121000</td>\n",
       "      <td>996</td>\n",
       "      <td>0</td>\n",
       "      <td>0</td>\n",
       "      <td>0</td>\n",
       "      <td>0</td>\n",
       "    </tr>\n",
       "    <tr>\n",
       "      <th>2230</th>\n",
       "      <td>2315</td>\n",
       "      <td>2333</td>\n",
       "      <td>1400</td>\n",
       "      <td>101000</td>\n",
       "      <td>660</td>\n",
       "      <td>2</td>\n",
       "      <td>0</td>\n",
       "      <td>0</td>\n",
       "      <td>0</td>\n",
       "    </tr>\n",
       "    <tr>\n",
       "      <th>2231</th>\n",
       "      <td>2316</td>\n",
       "      <td>2334</td>\n",
       "      <td>1400</td>\n",
       "      <td>170000</td>\n",
       "      <td>660</td>\n",
       "      <td>0</td>\n",
       "      <td>1</td>\n",
       "      <td>0</td>\n",
       "      <td>0</td>\n",
       "    </tr>\n",
       "  </tbody>\n",
       "</table>\n",
       "<p>2232 rows × 9 columns</p>\n",
       "</div>"
      ],
      "text/plain": [
       "      index    id  price  mileage  engine_capacity  transmission  drive  \\\n",
       "0         0     0     80    80000             1240             0      0   \n",
       "1         1     1    110    53000             1200             0      0   \n",
       "2         2     2    165    47690             2000             0      0   \n",
       "3         3     3    190   130661             1990             0      0   \n",
       "4         4     4    190    66300              660             0      0   \n",
       "...     ...   ...    ...      ...              ...           ...    ...   \n",
       "2227   2311  2329   1400   101874             2000             0      0   \n",
       "2228   2312  2330   1400   112000             1300             0      0   \n",
       "2229   2313  2331   1400   121000              996             0      0   \n",
       "2230   2315  2333   1400   101000              660             2      0   \n",
       "2231   2316  2334   1400   170000              660             0      1   \n",
       "\n",
       "      hand_drive  fuel  \n",
       "0              0     0  \n",
       "1              0     0  \n",
       "2              0     0  \n",
       "3              0     0  \n",
       "4              0     0  \n",
       "...          ...   ...  \n",
       "2227           0     0  \n",
       "2228           0     0  \n",
       "2229           0     0  \n",
       "2230           0     0  \n",
       "2231           0     0  \n",
       "\n",
       "[2232 rows x 9 columns]"
      ]
     },
     "execution_count": 184,
     "metadata": {},
     "output_type": "execute_result"
    }
   ],
   "source": [
    "e_high = (Q3.engine_capacity+(1.5*IQR.engine_capacity))\n",
    "index = np.where(df['engine_capacity']>e_high)\n",
    "df=df.drop(df.index[index])\n",
    "df.reset_index()"
   ]
  },
  {
   "cell_type": "code",
   "execution_count": 185,
   "id": "45cdb743",
   "metadata": {},
   "outputs": [
    {
     "data": {
      "text/plain": [
       "3.710094909404659"
      ]
     },
     "execution_count": 185,
     "metadata": {},
     "output_type": "execute_result"
    }
   ],
   "source": [
    "##Calculating the percentage Loss after removing outliers####\n",
    "86/2318*100"
   ]
  },
  {
   "cell_type": "markdown",
   "id": "04d31681",
   "metadata": {},
   "source": [
    "***Percentage loss is acceptable***"
   ]
  },
  {
   "cell_type": "markdown",
   "id": "5dd96397",
   "metadata": {},
   "source": [
    "***Lets recheck the features after removing outliers***"
   ]
  },
  {
   "cell_type": "code",
   "execution_count": 186,
   "id": "8b8cfce6",
   "metadata": {},
   "outputs": [
    {
     "data": {
      "text/plain": [
       "<AxesSubplot:xlabel='mileage'>"
      ]
     },
     "execution_count": 186,
     "metadata": {},
     "output_type": "execute_result"
    },
    {
     "data": {
      "image/png": "[encoded data removed]",
      "text/plain": [
       "<Figure size 432x288 with 1 Axes>"
      ]
     },
     "metadata": {
      "needs_background": "light"
     },
     "output_type": "display_data"
    }
   ],
   "source": [
    "sns.boxplot(x='mileage',data=df)"
   ]
  },
  {
   "cell_type": "markdown",
   "id": "4580cf26",
   "metadata": {},
   "source": [
    "***As compared with initial checks on outliers for mileage we can cleary isualize that outliers are in controll***"
   ]
  },
  {
   "cell_type": "code",
   "execution_count": 187,
   "id": "34e7d50c",
   "metadata": {},
   "outputs": [
    {
     "data": {
      "text/plain": [
       "<AxesSubplot:xlabel='engine_capacity'>"
      ]
     },
     "execution_count": 187,
     "metadata": {},
     "output_type": "execute_result"
    },
    {
     "data": {
      "image/png": "[encoded data removed]",
      "text/plain": [
       "<Figure size 432x288 with 1 Axes>"
      ]
     },
     "metadata": {
      "needs_background": "light"
     },
     "output_type": "display_data"
    }
   ],
   "source": [
    "sns.boxplot(x='engine_capacity',data=df)"
   ]
  },
  {
   "cell_type": "markdown",
   "id": "a9bb967e",
   "metadata": {},
   "source": [
    "# We can see outliers on lower side is still pending to be treated,Lets treat them"
   ]
  },
  {
   "cell_type": "code",
   "execution_count": 188,
   "id": "eebcf90c",
   "metadata": {},
   "outputs": [
    {
     "data": {
      "text/html": [
       "<div>\n",
       "<style scoped>\n",
       "    .dataframe tbody tr th:only-of-type {\n",
       "        vertical-align: middle;\n",
       "    }\n",
       "\n",
       "    .dataframe tbody tr th {\n",
       "        vertical-align: top;\n",
       "    }\n",
       "\n",
       "    .dataframe thead th {\n",
       "        text-align: right;\n",
       "    }\n",
       "</style>\n",
       "<table border=\"1\" class=\"dataframe\">\n",
       "  <thead>\n",
       "    <tr style=\"text-align: right;\">\n",
       "      <th></th>\n",
       "      <th>index</th>\n",
       "      <th>id</th>\n",
       "      <th>price</th>\n",
       "      <th>mileage</th>\n",
       "      <th>engine_capacity</th>\n",
       "      <th>transmission</th>\n",
       "      <th>drive</th>\n",
       "      <th>hand_drive</th>\n",
       "      <th>fuel</th>\n",
       "    </tr>\n",
       "  </thead>\n",
       "  <tbody>\n",
       "    <tr>\n",
       "      <th>0</th>\n",
       "      <td>0</td>\n",
       "      <td>0</td>\n",
       "      <td>80</td>\n",
       "      <td>80000</td>\n",
       "      <td>1240</td>\n",
       "      <td>0</td>\n",
       "      <td>0</td>\n",
       "      <td>0</td>\n",
       "      <td>0</td>\n",
       "    </tr>\n",
       "    <tr>\n",
       "      <th>1</th>\n",
       "      <td>1</td>\n",
       "      <td>1</td>\n",
       "      <td>110</td>\n",
       "      <td>53000</td>\n",
       "      <td>1200</td>\n",
       "      <td>0</td>\n",
       "      <td>0</td>\n",
       "      <td>0</td>\n",
       "      <td>0</td>\n",
       "    </tr>\n",
       "    <tr>\n",
       "      <th>2</th>\n",
       "      <td>2</td>\n",
       "      <td>2</td>\n",
       "      <td>165</td>\n",
       "      <td>47690</td>\n",
       "      <td>2000</td>\n",
       "      <td>0</td>\n",
       "      <td>0</td>\n",
       "      <td>0</td>\n",
       "      <td>0</td>\n",
       "    </tr>\n",
       "    <tr>\n",
       "      <th>3</th>\n",
       "      <td>3</td>\n",
       "      <td>3</td>\n",
       "      <td>190</td>\n",
       "      <td>130661</td>\n",
       "      <td>1990</td>\n",
       "      <td>0</td>\n",
       "      <td>0</td>\n",
       "      <td>0</td>\n",
       "      <td>0</td>\n",
       "    </tr>\n",
       "    <tr>\n",
       "      <th>4</th>\n",
       "      <td>4</td>\n",
       "      <td>4</td>\n",
       "      <td>190</td>\n",
       "      <td>66300</td>\n",
       "      <td>660</td>\n",
       "      <td>0</td>\n",
       "      <td>0</td>\n",
       "      <td>0</td>\n",
       "      <td>0</td>\n",
       "    </tr>\n",
       "    <tr>\n",
       "      <th>...</th>\n",
       "      <td>...</td>\n",
       "      <td>...</td>\n",
       "      <td>...</td>\n",
       "      <td>...</td>\n",
       "      <td>...</td>\n",
       "      <td>...</td>\n",
       "      <td>...</td>\n",
       "      <td>...</td>\n",
       "      <td>...</td>\n",
       "    </tr>\n",
       "    <tr>\n",
       "      <th>2226</th>\n",
       "      <td>2311</td>\n",
       "      <td>2329</td>\n",
       "      <td>1400</td>\n",
       "      <td>101874</td>\n",
       "      <td>2000</td>\n",
       "      <td>0</td>\n",
       "      <td>0</td>\n",
       "      <td>0</td>\n",
       "      <td>0</td>\n",
       "    </tr>\n",
       "    <tr>\n",
       "      <th>2227</th>\n",
       "      <td>2312</td>\n",
       "      <td>2330</td>\n",
       "      <td>1400</td>\n",
       "      <td>112000</td>\n",
       "      <td>1300</td>\n",
       "      <td>0</td>\n",
       "      <td>0</td>\n",
       "      <td>0</td>\n",
       "      <td>0</td>\n",
       "    </tr>\n",
       "    <tr>\n",
       "      <th>2228</th>\n",
       "      <td>2313</td>\n",
       "      <td>2331</td>\n",
       "      <td>1400</td>\n",
       "      <td>121000</td>\n",
       "      <td>996</td>\n",
       "      <td>0</td>\n",
       "      <td>0</td>\n",
       "      <td>0</td>\n",
       "      <td>0</td>\n",
       "    </tr>\n",
       "    <tr>\n",
       "      <th>2229</th>\n",
       "      <td>2315</td>\n",
       "      <td>2333</td>\n",
       "      <td>1400</td>\n",
       "      <td>101000</td>\n",
       "      <td>660</td>\n",
       "      <td>2</td>\n",
       "      <td>0</td>\n",
       "      <td>0</td>\n",
       "      <td>0</td>\n",
       "    </tr>\n",
       "    <tr>\n",
       "      <th>2230</th>\n",
       "      <td>2316</td>\n",
       "      <td>2334</td>\n",
       "      <td>1400</td>\n",
       "      <td>170000</td>\n",
       "      <td>660</td>\n",
       "      <td>0</td>\n",
       "      <td>1</td>\n",
       "      <td>0</td>\n",
       "      <td>0</td>\n",
       "    </tr>\n",
       "  </tbody>\n",
       "</table>\n",
       "<p>2231 rows × 9 columns</p>\n",
       "</div>"
      ],
      "text/plain": [
       "      index    id  price  mileage  engine_capacity  transmission  drive  \\\n",
       "0         0     0     80    80000             1240             0      0   \n",
       "1         1     1    110    53000             1200             0      0   \n",
       "2         2     2    165    47690             2000             0      0   \n",
       "3         3     3    190   130661             1990             0      0   \n",
       "4         4     4    190    66300              660             0      0   \n",
       "...     ...   ...    ...      ...              ...           ...    ...   \n",
       "2226   2311  2329   1400   101874             2000             0      0   \n",
       "2227   2312  2330   1400   112000             1300             0      0   \n",
       "2228   2313  2331   1400   121000              996             0      0   \n",
       "2229   2315  2333   1400   101000              660             2      0   \n",
       "2230   2316  2334   1400   170000              660             0      1   \n",
       "\n",
       "      hand_drive  fuel  \n",
       "0              0     0  \n",
       "1              0     0  \n",
       "2              0     0  \n",
       "3              0     0  \n",
       "4              0     0  \n",
       "...          ...   ...  \n",
       "2226           0     0  \n",
       "2227           0     0  \n",
       "2228           0     0  \n",
       "2229           0     0  \n",
       "2230           0     0  \n",
       "\n",
       "[2231 rows x 9 columns]"
      ]
     },
     "execution_count": 188,
     "metadata": {},
     "output_type": "execute_result"
    }
   ],
   "source": [
    "eng_low = (Q1.engine_capacity-(1.5*IQR.engine_capacity))\n",
    "index = np.where(df['engine_capacity']<eng_low)\n",
    "df=df.drop(df.index[index])\n",
    "df.reset_index()"
   ]
  },
  {
   "cell_type": "markdown",
   "id": "72a2d44e",
   "metadata": {},
   "source": [
    "# New percentage Loss"
   ]
  },
  {
   "cell_type": "code",
   "execution_count": 189,
   "id": "803a6e4e",
   "metadata": {},
   "outputs": [
    {
     "name": "stdout",
     "output_type": "stream",
     "text": [
      "New Percentage Loss on Dataset is= 3.7532355478861086\n"
     ]
    }
   ],
   "source": [
    "print(\"New Percentage Loss on Dataset is=\",87/2318*100)"
   ]
  },
  {
   "cell_type": "markdown",
   "id": "1425b0eb",
   "metadata": {},
   "source": [
    "***Only one row was inculcate with the outliers which is good for us ,we have not loose much of information***"
   ]
  },
  {
   "cell_type": "code",
   "execution_count": 190,
   "id": "75333292",
   "metadata": {},
   "outputs": [
    {
     "name": "stdout",
     "output_type": "stream",
     "text": [
      "Difference between Pre and Post Percentage Loss of data 0.044802867383512544\n"
     ]
    }
   ],
   "source": [
    "print(\"Difference between Pre and Post Percentage Loss of data\",1/2232*100)"
   ]
  },
  {
   "cell_type": "markdown",
   "id": "403eb26d",
   "metadata": {},
   "source": [
    "***Lets plot Boxplot again to check the outliers***"
   ]
  },
  {
   "cell_type": "code",
   "execution_count": 191,
   "id": "f6828082",
   "metadata": {},
   "outputs": [
    {
     "data": {
      "text/plain": [
       "<AxesSubplot:xlabel='engine_capacity'>"
      ]
     },
     "execution_count": 191,
     "metadata": {},
     "output_type": "execute_result"
    },
    {
     "data": {
      "image/png": "[encoded data removed]",
      "text/plain": [
       "<Figure size 432x288 with 1 Axes>"
      ]
     },
     "metadata": {
      "needs_background": "light"
     },
     "output_type": "display_data"
    }
   ],
   "source": [
    "sns.boxplot(x='engine_capacity',data=df)"
   ]
  },
  {
   "cell_type": "markdown",
   "id": "a1eac6f6",
   "metadata": {},
   "source": [
    "# We can visualize that outliers are in complete controll for our DataSet"
   ]
  },
  {
   "cell_type": "markdown",
   "id": "6a4e8036",
   "metadata": {},
   "source": [
    "***Multi-Collinearity Check***"
   ]
  },
  {
   "cell_type": "code",
   "execution_count": 192,
   "id": "0247dde1",
   "metadata": {},
   "outputs": [
    {
     "data": {
      "text/plain": [
       "<AxesSubplot:>"
      ]
     },
     "execution_count": 192,
     "metadata": {},
     "output_type": "execute_result"
    },
    {
     "data": {
      "image/png": "[encoded data removed]",
      "text/plain": [
       "<Figure size 432x288 with 2 Axes>"
      ]
     },
     "metadata": {
      "needs_background": "light"
     },
     "output_type": "display_data"
    }
   ],
   "source": [
    "sns.heatmap(df.corr(),annot=True)"
   ]
  },
  {
   "cell_type": "markdown",
   "id": "672b65fa",
   "metadata": {},
   "source": [
    "***Observations***\n",
    "\n",
    "1. Considering minimum threshold of 80% ,by visualizing their is no muli-collinearity problem in dataset.\n",
    "2. Both continuous features are negatively correlated with each other"
   ]
  },
  {
   "cell_type": "markdown",
   "id": "757156cc",
   "metadata": {},
   "source": [
    "***No Multicollinearity has been visualized amongst features***"
   ]
  },
  {
   "cell_type": "markdown",
   "id": "2b921506",
   "metadata": {},
   "source": [
    "# Skewness Check"
   ]
  },
  {
   "cell_type": "code",
   "execution_count": 193,
   "id": "8b11e03d",
   "metadata": {},
   "outputs": [
    {
     "data": {
      "text/html": [
       "<div>\n",
       "<style scoped>\n",
       "    .dataframe tbody tr th:only-of-type {\n",
       "        vertical-align: middle;\n",
       "    }\n",
       "\n",
       "    .dataframe tbody tr th {\n",
       "        vertical-align: top;\n",
       "    }\n",
       "\n",
       "    .dataframe thead th {\n",
       "        text-align: right;\n",
       "    }\n",
       "</style>\n",
       "<table border=\"1\" class=\"dataframe\">\n",
       "  <thead>\n",
       "    <tr style=\"text-align: right;\">\n",
       "      <th></th>\n",
       "      <th>Skewness</th>\n",
       "    </tr>\n",
       "  </thead>\n",
       "  <tbody>\n",
       "    <tr>\n",
       "      <th>price</th>\n",
       "      <td>-0.465917</td>\n",
       "    </tr>\n",
       "    <tr>\n",
       "      <th>id</th>\n",
       "      <td>-0.001479</td>\n",
       "    </tr>\n",
       "    <tr>\n",
       "      <th>mileage</th>\n",
       "      <td>0.384964</td>\n",
       "    </tr>\n",
       "    <tr>\n",
       "      <th>engine_capacity</th>\n",
       "      <td>0.396519</td>\n",
       "    </tr>\n",
       "    <tr>\n",
       "      <th>drive</th>\n",
       "      <td>3.343349</td>\n",
       "    </tr>\n",
       "    <tr>\n",
       "      <th>transmission</th>\n",
       "      <td>4.425486</td>\n",
       "    </tr>\n",
       "    <tr>\n",
       "      <th>hand_drive</th>\n",
       "      <td>12.512952</td>\n",
       "    </tr>\n",
       "    <tr>\n",
       "      <th>fuel</th>\n",
       "      <td>15.696206</td>\n",
       "    </tr>\n",
       "  </tbody>\n",
       "</table>\n",
       "</div>"
      ],
      "text/plain": [
       "                  Skewness\n",
       "price            -0.465917\n",
       "id               -0.001479\n",
       "mileage           0.384964\n",
       "engine_capacity   0.396519\n",
       "drive             3.343349\n",
       "transmission      4.425486\n",
       "hand_drive       12.512952\n",
       "fuel             15.696206"
      ]
     },
     "execution_count": 193,
     "metadata": {},
     "output_type": "execute_result"
    }
   ],
   "source": [
    "Data_skewness=pd.DataFrame({'Skewness':df.skew().sort_values()})\n",
    "Data_skewness"
   ]
  },
  {
   "cell_type": "markdown",
   "id": "21d3a32f",
   "metadata": {},
   "source": [
    "***we can not touc the price column as this our target variable drive,transmission and hand_drive are categorical features,whereas mileage and engine_capacity is in threshold of +-0.65***"
   ]
  },
  {
   "cell_type": "markdown",
   "id": "a3c03636",
   "metadata": {},
   "source": [
    "***For continuous variables Univariate analysis has been visualized above and was found satisfactory***"
   ]
  },
  {
   "cell_type": "markdown",
   "id": "9994fab7",
   "metadata": {},
   "source": [
    "***Dividing datset for checking Relationship of all features vs our target variable "
   ]
  },
  {
   "cell_type": "code",
   "execution_count": 194,
   "id": "07cd8eeb",
   "metadata": {},
   "outputs": [],
   "source": [
    "x= df.drop(columns=['price'])\n",
    "y= df['price']"
   ]
  },
  {
   "cell_type": "code",
   "execution_count": 195,
   "id": "79439099",
   "metadata": {},
   "outputs": [
    {
     "data": {
      "image/png": "[encoded data removed]",
      "text/plain": [
       "<Figure size 1080x864 with 7 Axes>"
      ]
     },
     "metadata": {
      "needs_background": "light"
     },
     "output_type": "display_data"
    }
   ],
   "source": [
    "plt.figure(figsize=(15,12))\n",
    "\n",
    "Plotnumber=1\n",
    "for column in x:\n",
    "    if Plotnumber<=8:\n",
    "        ax=plt.subplot(2,4,Plotnumber)\n",
    "        plt.scatter(x[column],y)\n",
    "        plt.xlabel(column)\n",
    "        plt.ylabel('price')\n",
    "    Plotnumber+=1\n",
    "    \n",
    "plt.show()    "
   ]
  },
  {
   "cell_type": "markdown",
   "id": "1db85f17",
   "metadata": {},
   "source": [
    "***OBSERVATIONS***\n",
    "\n",
    "1. More the mileage less the Price of used car wheas less the mileage more the price of used car\n",
    "\n",
    "2. engine_capacity plays a significant role with increase in engine_capacity their is a increase in price and vice-versa\n",
    "\n",
    "3. Automatic transmission cars have the maximum price followed by 'mt' and 'cvt'\n",
    "\n",
    "4. Their are almost equal prices of 2wd, 4wd and awd for used cards\n",
    "\n",
    "5. Right hand drive is having the maximum price in used cars as compared to Centre and Left hand drive"
   ]
  },
  {
   "cell_type": "code",
   "execution_count": 196,
   "id": "85018974",
   "metadata": {},
   "outputs": [],
   "source": [
    "##Importing necessary Libraries####\n",
    "from sklearn.preprocessing import StandardScaler\n",
    "from sklearn.model_selection import train_test_split\n",
    "from sklearn.linear_model import LinearRegression"
   ]
  },
  {
   "cell_type": "code",
   "execution_count": 197,
   "id": "2f2459ce",
   "metadata": {},
   "outputs": [],
   "source": [
    "###Initiating object for standard scaler#####\n",
    "scaler = StandardScaler()"
   ]
  },
  {
   "cell_type": "code",
   "execution_count": 198,
   "id": "bce9bb4a",
   "metadata": {},
   "outputs": [],
   "source": [
    "x_scaled= scaler.fit_transform(x)"
   ]
  },
  {
   "cell_type": "code",
   "execution_count": 199,
   "id": "41820fe5",
   "metadata": {},
   "outputs": [],
   "source": [
    "#Applying train_test_split for training and testing of data#####\n",
    "x_train,x_test,y_train,y_test=train_test_split(x_scaled,y,test_size=0.33,random_state=21)"
   ]
  },
  {
   "cell_type": "markdown",
   "id": "d332b052",
   "metadata": {},
   "source": [
    "# Linear Regression ML Algorithm"
   ]
  },
  {
   "cell_type": "code",
   "execution_count": 200,
   "id": "fe55e50a",
   "metadata": {},
   "outputs": [],
   "source": [
    "LR = LinearRegression()"
   ]
  },
  {
   "cell_type": "code",
   "execution_count": 201,
   "id": "0c32991b",
   "metadata": {},
   "outputs": [
    {
     "data": {
      "text/plain": [
       "LinearRegression()"
      ]
     },
     "execution_count": 201,
     "metadata": {},
     "output_type": "execute_result"
    }
   ],
   "source": [
    "###Model learning on training Data#####\n",
    "LR.fit(x_train,y_train)"
   ]
  },
  {
   "cell_type": "code",
   "execution_count": 202,
   "id": "841c4d3e",
   "metadata": {},
   "outputs": [
    {
     "data": {
      "text/plain": [
       "LinearRegression()"
      ]
     },
     "execution_count": 202,
     "metadata": {},
     "output_type": "execute_result"
    }
   ],
   "source": [
    "LR.fit(x_test,y_test)"
   ]
  },
  {
   "cell_type": "markdown",
   "id": "ff514054",
   "metadata": {},
   "source": [
    "# Training score"
   ]
  },
  {
   "cell_type": "code",
   "execution_count": 203,
   "id": "69e20c0a",
   "metadata": {},
   "outputs": [
    {
     "data": {
      "text/plain": [
       "0.9709670637118263"
      ]
     },
     "execution_count": 203,
     "metadata": {},
     "output_type": "execute_result"
    }
   ],
   "source": [
    "LR.score(x_train,y_train)"
   ]
  },
  {
   "cell_type": "markdown",
   "id": "94a32d4c",
   "metadata": {},
   "source": [
    "# Testing score"
   ]
  },
  {
   "cell_type": "code",
   "execution_count": 204,
   "id": "628126e5",
   "metadata": {},
   "outputs": [
    {
     "data": {
      "text/plain": [
       "0.9702650402737746"
      ]
     },
     "execution_count": 204,
     "metadata": {},
     "output_type": "execute_result"
    }
   ],
   "source": [
    "LR.score(x_test,y_test)"
   ]
  },
  {
   "cell_type": "markdown",
   "id": "95ccf0da",
   "metadata": {},
   "source": [
    "# Metric Score"
   ]
  },
  {
   "cell_type": "code",
   "execution_count": 205,
   "id": "fce63c18",
   "metadata": {},
   "outputs": [],
   "source": [
    "from sklearn.metrics import r2_score"
   ]
  },
  {
   "cell_type": "code",
   "execution_count": 206,
   "id": "dd53048f",
   "metadata": {},
   "outputs": [
    {
     "data": {
      "text/plain": [
       "0.9702650402737746"
      ]
     },
     "execution_count": 206,
     "metadata": {},
     "output_type": "execute_result"
    }
   ],
   "source": [
    "y_pred = LR.predict(x_test)\n",
    "r2_score(y_test,y_pred)"
   ]
  },
  {
   "cell_type": "markdown",
   "id": "a17505f8",
   "metadata": {},
   "source": [
    "# Linear regression scores\n",
    "\n",
    "# ***Training score == 97%\n",
    "# ***Testing score   == 97%\n",
    "# *** R2_Score         == 97%\n",
    "      "
   ]
  },
  {
   "cell_type": "markdown",
   "id": "ad01119b",
   "metadata": {},
   "source": [
    "# we got 97% of score in all above segments,which is a good sign. Lets try LASSO and RIDGE Regressions to check whether model is overfitted or not¶"
   ]
  },
  {
   "cell_type": "code",
   "execution_count": 207,
   "id": "a04c1d92",
   "metadata": {},
   "outputs": [],
   "source": [
    "from sklearn.linear_model import Ridge,Lasso,RidgeCV,LassoCV"
   ]
  },
  {
   "cell_type": "code",
   "execution_count": 208,
   "id": "51f71756",
   "metadata": {},
   "outputs": [],
   "source": [
    "C"
   ]
  },
  {
   "cell_type": "code",
   "execution_count": 209,
   "id": "95e160b4",
   "metadata": {},
   "outputs": [
    {
     "data": {
      "text/plain": [
       "LassoCV(max_iter=200, normalize=True)"
      ]
     },
     "execution_count": 209,
     "metadata": {},
     "output_type": "execute_result"
    }
   ],
   "source": [
    "Lassocv.fit(x_train,y_train)"
   ]
  },
  {
   "cell_type": "code",
   "execution_count": 210,
   "id": "ccd1a270",
   "metadata": {},
   "outputs": [
    {
     "data": {
      "text/plain": [
       "0.007423805334367752"
      ]
     },
     "execution_count": 210,
     "metadata": {},
     "output_type": "execute_result"
    }
   ],
   "source": [
    "alpha_num = Lassocv.alpha_\n",
    "alpha_num"
   ]
  },
  {
   "cell_type": "code",
   "execution_count": 211,
   "id": "2eb9a2c4",
   "metadata": {},
   "outputs": [],
   "source": [
    "lasso_reg = Lasso(alpha_num)"
   ]
  },
  {
   "cell_type": "code",
   "execution_count": 212,
   "id": "f0244f8f",
   "metadata": {},
   "outputs": [
    {
     "data": {
      "text/plain": [
       "Lasso(alpha=0.007423805334367752)"
      ]
     },
     "execution_count": 212,
     "metadata": {},
     "output_type": "execute_result"
    }
   ],
   "source": [
    "lasso_reg.fit(x_train,y_train)"
   ]
  },
  {
   "cell_type": "code",
   "execution_count": 213,
   "id": "68c5a13d",
   "metadata": {},
   "outputs": [
    {
     "data": {
      "text/plain": [
       "0.9713075966579852"
      ]
     },
     "execution_count": 213,
     "metadata": {},
     "output_type": "execute_result"
    }
   ],
   "source": [
    "lasso_reg.score(x_train,y_train)"
   ]
  },
  {
   "cell_type": "code",
   "execution_count": 214,
   "id": "d4e32349",
   "metadata": {},
   "outputs": [
    {
     "data": {
      "text/plain": [
       "0.9699119536387071"
      ]
     },
     "execution_count": 214,
     "metadata": {},
     "output_type": "execute_result"
    }
   ],
   "source": [
    "lasso_reg.score(x_test,y_test)"
   ]
  },
  {
   "cell_type": "markdown",
   "id": "39b5ea19",
   "metadata": {},
   "source": [
    "# Lasso Regression  score is also 97%,our Model is not overfitting"
   ]
  },
  {
   "cell_type": "markdown",
   "id": "f33a841b",
   "metadata": {},
   "source": [
    "# ***Lets check overall error of Model using MAE,MSE,RMSE"
   ]
  },
  {
   "cell_type": "code",
   "execution_count": 215,
   "id": "45b480fd",
   "metadata": {},
   "outputs": [],
   "source": [
    "from sklearn.metrics import mean_absolute_error,mean_squared_error"
   ]
  },
  {
   "cell_type": "code",
   "execution_count": 216,
   "id": "857f82ef",
   "metadata": {},
   "outputs": [
    {
     "data": {
      "text/plain": [
       "35.64106659698825"
      ]
     },
     "execution_count": 216,
     "metadata": {},
     "output_type": "execute_result"
    }
   ],
   "source": [
    "mean_absolute_error(y_test,y_pred)"
   ]
  },
  {
   "cell_type": "code",
   "execution_count": 217,
   "id": "0879cf69",
   "metadata": {},
   "outputs": [
    {
     "data": {
      "text/plain": [
       "2356.810477381663"
      ]
     },
     "execution_count": 217,
     "metadata": {},
     "output_type": "execute_result"
    }
   ],
   "source": [
    "mean_squared_error(y_test,y_pred)"
   ]
  },
  {
   "cell_type": "code",
   "execution_count": 218,
   "id": "f246389a",
   "metadata": {},
   "outputs": [
    {
     "data": {
      "text/plain": [
       "48.54699246484444"
      ]
     },
     "execution_count": 218,
     "metadata": {},
     "output_type": "execute_result"
    }
   ],
   "source": [
    "##Root mean squared error\n",
    "np.sqrt(2356.810477381663)"
   ]
  },
  {
   "cell_type": "markdown",
   "id": "ba3dd361",
   "metadata": {},
   "source": [
    "***MAE-35.64***\n",
    "\n",
    "***MSE-2356.81***\n",
    "\n",
    "***RMSE-48.54***"
   ]
  },
  {
   "cell_type": "markdown",
   "id": "733bfd07",
   "metadata": {},
   "source": [
    "# Model Building using ADA Boost Regressor"
   ]
  },
  {
   "cell_type": "code",
   "execution_count": 219,
   "id": "d7974882",
   "metadata": {},
   "outputs": [],
   "source": [
    "from sklearn.ensemble import AdaBoostRegressor"
   ]
  },
  {
   "cell_type": "code",
   "execution_count": 220,
   "id": "9c7dca06",
   "metadata": {},
   "outputs": [],
   "source": [
    "###Initiating object for AdaBoostRegressor###\n",
    "ada= AdaBoostRegressor()"
   ]
  },
  {
   "cell_type": "code",
   "execution_count": 221,
   "id": "8a3396e6",
   "metadata": {},
   "outputs": [
    {
     "data": {
      "text/plain": [
       "AdaBoostRegressor()"
      ]
     },
     "execution_count": 221,
     "metadata": {},
     "output_type": "execute_result"
    }
   ],
   "source": [
    "###Model Training using Ada Boost Regressor###\n",
    "ada.fit(x_train,y_train)"
   ]
  },
  {
   "cell_type": "code",
   "execution_count": 222,
   "id": "aeda0c7b",
   "metadata": {},
   "outputs": [
    {
     "data": {
      "text/plain": [
       "0.9948597779747117"
      ]
     },
     "execution_count": 222,
     "metadata": {},
     "output_type": "execute_result"
    }
   ],
   "source": [
    "####Training score####\n",
    "ada.score(x_train,y_train)"
   ]
  },
  {
   "cell_type": "code",
   "execution_count": 223,
   "id": "74f5fd88",
   "metadata": {},
   "outputs": [
    {
     "data": {
      "text/plain": [
       "AdaBoostRegressor()"
      ]
     },
     "execution_count": 223,
     "metadata": {},
     "output_type": "execute_result"
    }
   ],
   "source": [
    "ada.fit(x_test,y_test)"
   ]
  },
  {
   "cell_type": "code",
   "execution_count": 224,
   "id": "b4241344",
   "metadata": {},
   "outputs": [
    {
     "data": {
      "text/plain": [
       "0.9962422440541182"
      ]
     },
     "execution_count": 224,
     "metadata": {},
     "output_type": "execute_result"
    }
   ],
   "source": [
    "###Testing Score###\n",
    "ada.score(x_test,y_test)"
   ]
  },
  {
   "cell_type": "code",
   "execution_count": 225,
   "id": "3abf1e34",
   "metadata": {},
   "outputs": [],
   "source": [
    "###Predicting values in x_train for comparing with y_train###\n",
    "x_pred= ada.predict(x_train)"
   ]
  },
  {
   "cell_type": "code",
   "execution_count": 226,
   "id": "69a7305f",
   "metadata": {},
   "outputs": [
    {
     "data": {
      "text/plain": [
       "0.9957815550238768"
      ]
     },
     "execution_count": 226,
     "metadata": {},
     "output_type": "execute_result"
    }
   ],
   "source": [
    "####R2 score on Training Data using AdaBoost Regressor###\n",
    "r2_score(y_train,x_pred)"
   ]
  },
  {
   "cell_type": "code",
   "execution_count": 227,
   "id": "479ecede",
   "metadata": {},
   "outputs": [],
   "source": [
    "##Predicting values in x-test for comparing with y_test### \n",
    "y_pred = ada.predict(x_test)"
   ]
  },
  {
   "cell_type": "code",
   "execution_count": 228,
   "id": "d5fcf80e",
   "metadata": {},
   "outputs": [
    {
     "data": {
      "text/plain": [
       "0.9962422440541182"
      ]
     },
     "execution_count": 228,
     "metadata": {},
     "output_type": "execute_result"
    }
   ],
   "source": [
    "###Testing score using Ada Boost Regressor#####\n",
    "r2_score(y_test,y_pred)"
   ]
  },
  {
   "cell_type": "markdown",
   "id": "b5ca10a2",
   "metadata": {},
   "source": [
    "*****Scores with ADA Boost Regressor*****\n",
    "\n",
    "**Taining score= 99%**\n",
    "\n",
    "**Testing score= 99%**\n",
    "\n",
    "\n",
    "**R2_score on Training data = 99%**\n",
    "\n",
    "***R2_score on Testing data = 99%**"
   ]
  },
  {
   "cell_type": "markdown",
   "id": "5bab339c",
   "metadata": {},
   "source": [
    "# Evaluation Metrics"
   ]
  },
  {
   "cell_type": "code",
   "execution_count": 229,
   "id": "cf6e1d0c",
   "metadata": {},
   "outputs": [
    {
     "data": {
      "text/plain": [
       "13.12788838641641"
      ]
     },
     "execution_count": 229,
     "metadata": {},
     "output_type": "execute_result"
    }
   ],
   "source": [
    "mean_absolute_error(y_test,y_pred)"
   ]
  },
  {
   "cell_type": "code",
   "execution_count": 230,
   "id": "f9524c5d",
   "metadata": {},
   "outputs": [
    {
     "data": {
      "text/plain": [
       "297.8419566139969"
      ]
     },
     "execution_count": 230,
     "metadata": {},
     "output_type": "execute_result"
    }
   ],
   "source": [
    "mean_squared_error(y_test,y_pred)"
   ]
  },
  {
   "cell_type": "code",
   "execution_count": 231,
   "id": "e8ad258e",
   "metadata": {},
   "outputs": [
    {
     "name": "stdout",
     "output_type": "stream",
     "text": [
      "Root mean squared error=== 18.698598036969415\n"
     ]
    }
   ],
   "source": [
    "print(\"Root mean squared error===\",np.sqrt(349.6375685481564))"
   ]
  },
  {
   "cell_type": "markdown",
   "id": "1bf235a8",
   "metadata": {},
   "source": [
    "**MAE == 14.84**\n",
    "\n",
    "**MSE == 349.63**\n",
    "\n",
    "**RMSE == 18.69**"
   ]
  },
  {
   "cell_type": "markdown",
   "id": "0334a06c",
   "metadata": {},
   "source": [
    "# CV Score"
   ]
  },
  {
   "cell_type": "code",
   "execution_count": 232,
   "id": "c9b8539b",
   "metadata": {},
   "outputs": [],
   "source": [
    "\n",
    "from sklearn.linear_model import Ridge,Lasso,RidgeCV,LassoCV"
   ]
  },
  {
   "cell_type": "code",
   "execution_count": 233,
   "id": "ecebfae5",
   "metadata": {},
   "outputs": [],
   "source": [
    "Lassocv=LassoCV(max_iter=200,normalize=True)"
   ]
  },
  {
   "cell_type": "code",
   "execution_count": 234,
   "id": "0312f611",
   "metadata": {},
   "outputs": [
    {
     "data": {
      "text/plain": [
       "LassoCV(max_iter=200, normalize=True)"
      ]
     },
     "execution_count": 234,
     "metadata": {},
     "output_type": "execute_result"
    }
   ],
   "source": [
    "Lassocv.fit(x_train,y_train)"
   ]
  },
  {
   "cell_type": "code",
   "execution_count": 235,
   "id": "85c0f443",
   "metadata": {},
   "outputs": [
    {
     "data": {
      "text/plain": [
       "0.007423805334367752"
      ]
     },
     "execution_count": 235,
     "metadata": {},
     "output_type": "execute_result"
    }
   ],
   "source": [
    "alpha_num = Lassocv.alpha_\n",
    "alpha_num"
   ]
  },
  {
   "cell_type": "code",
   "execution_count": 236,
   "id": "c5002c21",
   "metadata": {},
   "outputs": [],
   "source": [
    "lasso_reg = Lasso(alpha_num)"
   ]
  },
  {
   "cell_type": "code",
   "execution_count": 237,
   "id": "566b31db",
   "metadata": {},
   "outputs": [
    {
     "data": {
      "text/plain": [
       "Lasso(alpha=0.007423805334367752)"
      ]
     },
     "execution_count": 237,
     "metadata": {},
     "output_type": "execute_result"
    }
   ],
   "source": [
    "lasso_reg.fit(x_train,y_train)"
   ]
  },
  {
   "cell_type": "code",
   "execution_count": 238,
   "id": "d5040d44",
   "metadata": {},
   "outputs": [
    {
     "data": {
      "text/plain": [
       "0.9713075966579852"
      ]
     },
     "execution_count": 238,
     "metadata": {},
     "output_type": "execute_result"
    }
   ],
   "source": [
    "lasso_reg.score(x_train,y_train)"
   ]
  },
  {
   "cell_type": "code",
   "execution_count": 239,
   "id": "fe4ec468",
   "metadata": {},
   "outputs": [
    {
     "data": {
      "text/plain": [
       "0.9699119536387071"
      ]
     },
     "execution_count": 239,
     "metadata": {},
     "output_type": "execute_result"
    }
   ],
   "source": [
    "lasso_reg.score(x_test,y_test)"
   ]
  },
  {
   "cell_type": "markdown",
   "id": "05a5fb9f",
   "metadata": {},
   "source": [
    "***CV Score***\n",
    "\n",
    "***Training=97%***\n",
    "\n",
    "***Testing Score === 96%***"
   ]
  },
  {
   "cell_type": "markdown",
   "id": "9cca1cde",
   "metadata": {},
   "source": [
    "# Model building using KNN Regressor"
   ]
  },
  {
   "cell_type": "code",
   "execution_count": 240,
   "id": "7fb3ff70",
   "metadata": {},
   "outputs": [],
   "source": [
    "##Importing necessary Library####\n",
    "from sklearn.neighbors import KNeighborsRegressor"
   ]
  },
  {
   "cell_type": "code",
   "execution_count": 241,
   "id": "8e3d767a",
   "metadata": {},
   "outputs": [],
   "source": [
    "##Creating object for algorithm####\n",
    "Knn=KNeighborsRegressor()"
   ]
  },
  {
   "cell_type": "code",
   "execution_count": 242,
   "id": "61d4a7c1",
   "metadata": {},
   "outputs": [
    {
     "data": {
      "text/plain": [
       "KNeighborsRegressor()"
      ]
     },
     "execution_count": 242,
     "metadata": {},
     "output_type": "execute_result"
    }
   ],
   "source": [
    "##Model training###\n",
    "Knn.fit(x_train,y_train)"
   ]
  },
  {
   "cell_type": "code",
   "execution_count": 243,
   "id": "55426251",
   "metadata": {},
   "outputs": [
    {
     "name": "stdout",
     "output_type": "stream",
     "text": [
      "Training score is==== 0.978134272764862\n"
     ]
    }
   ],
   "source": [
    "print(\"Training score is====\",Knn.score(x_train,y_train))"
   ]
  },
  {
   "cell_type": "code",
   "execution_count": 244,
   "id": "18a84255",
   "metadata": {},
   "outputs": [
    {
     "name": "stdout",
     "output_type": "stream",
     "text": [
      "Testing score is ===== 0.955725159222153\n"
     ]
    }
   ],
   "source": [
    "print(\"Testing score is =====\",Knn.score(x_test,y_test))"
   ]
  },
  {
   "cell_type": "code",
   "execution_count": 245,
   "id": "67f60b43",
   "metadata": {},
   "outputs": [],
   "source": [
    "y_pred= Knn.predict(x_test)"
   ]
  },
  {
   "cell_type": "code",
   "execution_count": 246,
   "id": "0f0bd108",
   "metadata": {},
   "outputs": [
    {
     "data": {
      "text/plain": [
       "0.955725159222153"
      ]
     },
     "execution_count": 246,
     "metadata": {},
     "output_type": "execute_result"
    }
   ],
   "source": [
    "r2_score(y_test,y_pred)"
   ]
  },
  {
   "cell_type": "markdown",
   "id": "025a7f15",
   "metadata": {},
   "source": [
    "***Training Score = 97%***\n",
    "\n",
    "***Testing score = 95%***\n",
    "\n",
    "***R2_Score =  95%***"
   ]
  },
  {
   "cell_type": "markdown",
   "id": "fff3ec5d",
   "metadata": {},
   "source": [
    "# Calculating MAE,MSE,RSME for KNN algorithm"
   ]
  },
  {
   "cell_type": "code",
   "execution_count": 247,
   "id": "3828aedc",
   "metadata": {},
   "outputs": [
    {
     "name": "stdout",
     "output_type": "stream",
     "text": [
      "Mean Absolute Error is===== 32.17693351424695\n"
     ]
    }
   ],
   "source": [
    "print(\"Mean Absolute Error is=====\",mean_absolute_error(y_test,y_pred))"
   ]
  },
  {
   "cell_type": "code",
   "execution_count": 248,
   "id": "435b1e11",
   "metadata": {},
   "outputs": [
    {
     "name": "stdout",
     "output_type": "stream",
     "text": [
      "Mean Squared Error is==== 3509.2500407055636\n"
     ]
    }
   ],
   "source": [
    "print(\"Mean Squared Error is====\",mean_squared_error(y_test,y_pred))"
   ]
  },
  {
   "cell_type": "code",
   "execution_count": 249,
   "id": "c16e9ae9",
   "metadata": {},
   "outputs": [
    {
     "name": "stdout",
     "output_type": "stream",
     "text": [
      "Root mean squared error=== 59.23892335876441\n"
     ]
    }
   ],
   "source": [
    "print(\"Root mean squared error===\",np.sqrt(3509.2500407055636))"
   ]
  },
  {
   "cell_type": "markdown",
   "id": "2adb09ee",
   "metadata": {},
   "source": [
    "# Cross Validations"
   ]
  },
  {
   "cell_type": "code",
   "execution_count": 250,
   "id": "6a4b7e1e",
   "metadata": {},
   "outputs": [],
   "source": [
    "from sklearn.linear_model import Ridge,Lasso,RidgeCV,LassoCV"
   ]
  },
  {
   "cell_type": "code",
   "execution_count": 251,
   "id": "cde45877",
   "metadata": {},
   "outputs": [],
   "source": [
    "Lassocv=LassoCV(max_iter=200,normalize=True)"
   ]
  },
  {
   "cell_type": "code",
   "execution_count": 252,
   "id": "7f96225c",
   "metadata": {},
   "outputs": [
    {
     "data": {
      "text/plain": [
       "LassoCV(max_iter=200, normalize=True)"
      ]
     },
     "execution_count": 252,
     "metadata": {},
     "output_type": "execute_result"
    }
   ],
   "source": [
    "Lassocv.fit(x_train,y_train)"
   ]
  },
  {
   "cell_type": "code",
   "execution_count": 253,
   "id": "c209f8ad",
   "metadata": {},
   "outputs": [
    {
     "data": {
      "text/plain": [
       "0.007423805334367752"
      ]
     },
     "execution_count": 253,
     "metadata": {},
     "output_type": "execute_result"
    }
   ],
   "source": [
    "alpha_num = Lassocv.alpha_\n",
    "alpha_num"
   ]
  },
  {
   "cell_type": "code",
   "execution_count": 254,
   "id": "5a68538e",
   "metadata": {},
   "outputs": [],
   "source": [
    "lasso_reg = Lasso(alpha_num)"
   ]
  },
  {
   "cell_type": "code",
   "execution_count": 255,
   "id": "b75405cb",
   "metadata": {},
   "outputs": [
    {
     "data": {
      "text/plain": [
       "Lasso(alpha=0.007423805334367752)"
      ]
     },
     "execution_count": 255,
     "metadata": {},
     "output_type": "execute_result"
    }
   ],
   "source": [
    "lasso_reg.fit(x_train,y_train)"
   ]
  },
  {
   "cell_type": "code",
   "execution_count": 256,
   "id": "66331b47",
   "metadata": {},
   "outputs": [
    {
     "data": {
      "text/plain": [
       "0.9713075966579852"
      ]
     },
     "execution_count": 256,
     "metadata": {},
     "output_type": "execute_result"
    }
   ],
   "source": [
    "lasso_reg.score(x_train,y_train)"
   ]
  },
  {
   "cell_type": "code",
   "execution_count": 257,
   "id": "c0e0b5f9",
   "metadata": {},
   "outputs": [
    {
     "data": {
      "text/plain": [
       "0.9699119536387071"
      ]
     },
     "execution_count": 257,
     "metadata": {},
     "output_type": "execute_result"
    }
   ],
   "source": [
    "lasso_reg.score(x_test,y_test)"
   ]
  },
  {
   "cell_type": "markdown",
   "id": "ca62ef25",
   "metadata": {},
   "source": [
    "***KNN CV Scores***\n",
    "\n",
    "***CV Score on Training = 97%***\n",
    "\n",
    "***CV Score on Testing = 96.99%***"
   ]
  },
  {
   "cell_type": "markdown",
   "id": "0f977317",
   "metadata": {},
   "source": [
    "# Model building GradientBoostingRegressor"
   ]
  },
  {
   "cell_type": "code",
   "execution_count": 258,
   "id": "6d659230",
   "metadata": {},
   "outputs": [],
   "source": [
    "from sklearn.ensemble import GradientBoostingRegressor"
   ]
  },
  {
   "cell_type": "code",
   "execution_count": 259,
   "id": "78e63679",
   "metadata": {},
   "outputs": [],
   "source": [
    "from sklearn import metrics"
   ]
  },
  {
   "cell_type": "code",
   "execution_count": 260,
   "id": "ec29d662",
   "metadata": {},
   "outputs": [],
   "source": [
    "gbr = GradientBoostingRegressor()"
   ]
  },
  {
   "cell_type": "code",
   "execution_count": 261,
   "id": "a43fdbf1",
   "metadata": {},
   "outputs": [
    {
     "data": {
      "text/plain": [
       "GradientBoostingRegressor()"
      ]
     },
     "execution_count": 261,
     "metadata": {},
     "output_type": "execute_result"
    }
   ],
   "source": [
    "gbr.fit(x_train,y_train)"
   ]
  },
  {
   "cell_type": "code",
   "execution_count": 262,
   "id": "7459c75e",
   "metadata": {},
   "outputs": [
    {
     "name": "stdout",
     "output_type": "stream",
     "text": [
      "Training score is====== 0.999984848592543\n"
     ]
    }
   ],
   "source": [
    "print(\"Training score is======\",gbr.score(x_train,y_train))"
   ]
  },
  {
   "cell_type": "code",
   "execution_count": 263,
   "id": "09179028",
   "metadata": {},
   "outputs": [
    {
     "name": "stdout",
     "output_type": "stream",
     "text": [
      "Testing score is ===== 0.9999376049386273\n"
     ]
    }
   ],
   "source": [
    "print(\"Testing score is =====\",gbr.score(x_test,y_test))"
   ]
  },
  {
   "cell_type": "code",
   "execution_count": 264,
   "id": "7aed4475",
   "metadata": {},
   "outputs": [],
   "source": [
    "y_predict = gbr.predict(x_test)"
   ]
  },
  {
   "cell_type": "markdown",
   "id": "45208391",
   "metadata": {},
   "source": [
    "***R2_Score***"
   ]
  },
  {
   "cell_type": "code",
   "execution_count": 265,
   "id": "5a3e87e6",
   "metadata": {},
   "outputs": [
    {
     "name": "stdout",
     "output_type": "stream",
     "text": [
      "R2_Score is 0.9999376049386273\n"
     ]
    }
   ],
   "source": [
    "print(\"R2_Score is\",metrics.r2_score(y_test,y_predict))"
   ]
  },
  {
   "cell_type": "markdown",
   "id": "19397aa8",
   "metadata": {},
   "source": [
    "***Evaluation metrics score***"
   ]
  },
  {
   "cell_type": "code",
   "execution_count": 266,
   "id": "3e8ccdb8",
   "metadata": {},
   "outputs": [
    {
     "name": "stdout",
     "output_type": "stream",
     "text": [
      "Mean Absolute Error is===== 1.077177009771877\n",
      "Mean squared error is====== 4.945469431743573\n",
      "Root mean squared error=== 2.2243659169597745\n"
     ]
    }
   ],
   "source": [
    "##Printing all evaluation score for GradientBoostingRegressor####\n",
    "print(\"Mean Absolute Error is=====\",mean_absolute_error(y_test,y_predict))\n",
    "print(\"Mean squared error is======\",mean_squared_error(y_test,y_predict))\n",
    "print(\"Root mean squared error===\",np.sqrt(4.947803732532297))"
   ]
  },
  {
   "cell_type": "markdown",
   "id": "80acf13b",
   "metadata": {},
   "source": [
    "# Cross validation"
   ]
  },
  {
   "cell_type": "code",
   "execution_count": 267,
   "id": "f0850c96",
   "metadata": {},
   "outputs": [],
   "source": [
    "from sklearn.linear_model import Ridge,Lasso,RidgeCV,LassoCV"
   ]
  },
  {
   "cell_type": "code",
   "execution_count": 268,
   "id": "0215bb08",
   "metadata": {},
   "outputs": [],
   "source": [
    "Lassocv=LassoCV(max_iter=200,normalize=True)"
   ]
  },
  {
   "cell_type": "code",
   "execution_count": 269,
   "id": "d6115e8d",
   "metadata": {},
   "outputs": [
    {
     "data": {
      "text/plain": [
       "LassoCV(max_iter=200, normalize=True)"
      ]
     },
     "execution_count": 269,
     "metadata": {},
     "output_type": "execute_result"
    }
   ],
   "source": [
    "Lassocv.fit(x_train,y_train)"
   ]
  },
  {
   "cell_type": "code",
   "execution_count": 270,
   "id": "fb5a323b",
   "metadata": {},
   "outputs": [
    {
     "data": {
      "text/plain": [
       "0.007423805334367752"
      ]
     },
     "execution_count": 270,
     "metadata": {},
     "output_type": "execute_result"
    }
   ],
   "source": [
    "alpha_num = Lassocv.alpha_\n",
    "alpha_num"
   ]
  },
  {
   "cell_type": "code",
   "execution_count": 271,
   "id": "f4072dd0",
   "metadata": {},
   "outputs": [],
   "source": [
    "lasso_reg = Lasso(alpha_num)"
   ]
  },
  {
   "cell_type": "code",
   "execution_count": 272,
   "id": "0aa79eea",
   "metadata": {},
   "outputs": [
    {
     "data": {
      "text/plain": [
       "Lasso(alpha=0.007423805334367752)"
      ]
     },
     "execution_count": 272,
     "metadata": {},
     "output_type": "execute_result"
    }
   ],
   "source": [
    "lasso_reg.fit(x_train,y_train)"
   ]
  },
  {
   "cell_type": "code",
   "execution_count": 273,
   "id": "802fbd9b",
   "metadata": {},
   "outputs": [
    {
     "data": {
      "text/plain": [
       "0.9713075966579852"
      ]
     },
     "execution_count": 273,
     "metadata": {},
     "output_type": "execute_result"
    }
   ],
   "source": [
    "lasso_reg.score(x_train,y_train)"
   ]
  },
  {
   "cell_type": "code",
   "execution_count": 274,
   "id": "3e6aec98",
   "metadata": {},
   "outputs": [
    {
     "data": {
      "text/plain": [
       "0.9699119536387071"
      ]
     },
     "execution_count": 274,
     "metadata": {},
     "output_type": "execute_result"
    }
   ],
   "source": [
    "lasso_reg.score(x_test,y_test)"
   ]
  },
  {
   "cell_type": "markdown",
   "id": "669b3dcd",
   "metadata": {},
   "source": [
    "***According to Model accuracy and CV score Linear Regression is having the least difference***"
   ]
  },
  {
   "cell_type": "markdown",
   "id": "36cfe061",
   "metadata": {},
   "source": [
    "# Hyperparameter Tuning of Leniar Regression"
   ]
  },
  {
   "cell_type": "code",
   "execution_count": 275,
   "id": "acfb287f",
   "metadata": {},
   "outputs": [],
   "source": [
    "from sklearn.model_selection import RandomizedSearchCV,GridSearchCV"
   ]
  },
  {
   "cell_type": "code",
   "execution_count": 276,
   "id": "62c313d4",
   "metadata": {},
   "outputs": [
    {
     "data": {
      "text/plain": [
       "LinearRegression()"
      ]
     },
     "execution_count": 276,
     "metadata": {},
     "output_type": "execute_result"
    }
   ],
   "source": [
    "LinearRegression()"
   ]
  },
  {
   "cell_type": "code",
   "execution_count": 277,
   "id": "286cdaf7",
   "metadata": {},
   "outputs": [],
   "source": [
    "params ={'fit_intercept':['True','False'],\n",
    "        'positive':['True','False'],\n",
    "        'copy_X':['True','False'],\n",
    "        'n_jobs':[1,2,3,4]}"
   ]
  },
  {
   "cell_type": "code",
   "execution_count": 278,
   "id": "65e2d997",
   "metadata": {},
   "outputs": [],
   "source": [
    "rndn_search = RandomizedSearchCV(LinearRegression(),cv=5,param_distributions=params)"
   ]
  },
  {
   "cell_type": "code",
   "execution_count": 279,
   "id": "75fecc7d",
   "metadata": {},
   "outputs": [
    {
     "data": {
      "text/plain": [
       "RandomizedSearchCV(cv=5, estimator=LinearRegression(),\n",
       "                   param_distributions={'copy_X': ['True', 'False'],\n",
       "                                        'fit_intercept': ['True', 'False'],\n",
       "                                        'n_jobs': [1, 2, 3, 4],\n",
       "                                        'positive': ['True', 'False']})"
      ]
     },
     "execution_count": 279,
     "metadata": {},
     "output_type": "execute_result"
    }
   ],
   "source": [
    "rndn_search.fit(x_train,y_train)"
   ]
  },
  {
   "cell_type": "code",
   "execution_count": 280,
   "id": "cbf94895",
   "metadata": {},
   "outputs": [
    {
     "data": {
      "text/plain": [
       "LinearRegression(copy_X='False', fit_intercept='False', n_jobs=2,\n",
       "                 positive='True')"
      ]
     },
     "execution_count": 280,
     "metadata": {},
     "output_type": "execute_result"
    }
   ],
   "source": [
    "rndn_search.best_estimator_"
   ]
  },
  {
   "cell_type": "code",
   "execution_count": 281,
   "id": "c7112d3e",
   "metadata": {},
   "outputs": [
    {
     "data": {
      "text/plain": [
       "LinearRegression(copy_X='True', fit_intercept='False', n_jobs=4,\n",
       "                 positive='False')"
      ]
     },
     "execution_count": 281,
     "metadata": {},
     "output_type": "execute_result"
    }
   ],
   "source": [
    "LR = LinearRegression(copy_X='True',fit_intercept='False',n_jobs=4,positive='False')\n",
    "LR.fit(x_train,y_train)"
   ]
  },
  {
   "cell_type": "code",
   "execution_count": 282,
   "id": "4613ec5d",
   "metadata": {},
   "outputs": [],
   "source": [
    "y_predict = LR.predict(x_test)"
   ]
  },
  {
   "cell_type": "code",
   "execution_count": 283,
   "id": "4662bd7a",
   "metadata": {},
   "outputs": [
    {
     "name": "stdout",
     "output_type": "stream",
     "text": [
      "===========Score post Hyper Parameter Tuning is==========\n"
     ]
    },
    {
     "data": {
      "text/plain": [
       "0.9698335211144827"
      ]
     },
     "execution_count": 283,
     "metadata": {},
     "output_type": "execute_result"
    }
   ],
   "source": [
    "print(\"===========Score post Hyper Parameter Tuning is==========\")\n",
    "\n",
    "metrics.r2_score(y_test,y_predict)"
   ]
  },
  {
   "cell_type": "markdown",
   "id": "21b38436",
   "metadata": {},
   "source": [
    "# After Hyperparameter Tuning its almost 97%,Lets save final model"
   ]
  },
  {
   "cell_type": "code",
   "execution_count": 284,
   "id": "455cff65",
   "metadata": {},
   "outputs": [],
   "source": [
    "import pickle"
   ]
  },
  {
   "cell_type": "code",
   "execution_count": 285,
   "id": "ab96395d",
   "metadata": {},
   "outputs": [],
   "source": [
    "pickle.dump(LR,open('Japan_used_cars','wb'))"
   ]
  },
  {
   "cell_type": "markdown",
   "id": "c16a3d1d",
   "metadata": {},
   "source": [
    "# Model Completed##"
   ]
  },
  {
   "cell_type": "code",
   "execution_count": null,
   "id": "3d6506d0",
   "metadata": {},
   "outputs": [],
   "source": []
  }
 ],
 "metadata": {
  "kernelspec": {
   "display_name": "Python 3 (ipykernel)",
   "language": "python",
   "name": "python3"
  },
  "language_info": {
   "codemirror_mode": {
    "name": "ipython",
    "version": 3
   },
   "file_extension": ".py",
   "mimetype": "text/x-python",
   "name": "python",
   "nbconvert_exporter": "python",
   "pygments_lexer": "ipython3",
   "version": "3.9.12"
  }
 },
 "nbformat": 4,
 "nbformat_minor": 5
}
